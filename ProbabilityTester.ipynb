{
 "cells": [
  {
   "cell_type": "code",
   "execution_count": 1,
   "metadata": {
    "collapsed": false
   },
   "outputs": [],
   "source": [
    "import random"
   ]
  },
  {
   "cell_type": "code",
   "execution_count": 3,
   "metadata": {
    "collapsed": false
   },
   "outputs": [
    {
     "name": "stdout",
     "output_type": "stream",
     "text": [
      "玩法1\n",
      "-93050 : 93050\n",
      "3353 : 1615\n",
      "玩法2\n",
      "150250 : -150250\n",
      "3341 : 3229\n"
     ]
    }
   ],
   "source": [
    "class card:\n",
    "    sides=[]    \n",
    "    def __init__(self,sides):\n",
    "        self.sides=sides\n",
    "        \n",
    "#1：将卡A,卡B,卡C放进一个盒子里\n",
    "redredcard=card([\"red\",\"red\"])\n",
    "redbluecard=card([\"red\",\"blue\"])\n",
    "bluebluecard=card([\"blue\",\"blue\"])\n",
    "cards=[redredcard,redbluecard,bluebluecard]\n",
    "\n",
    "my_account=0\n",
    "temp_account=0\n",
    "redredcard_count=0\n",
    "redbluecard_count=0\n",
    "#玩法1\n",
    "#玩10000把\n",
    "for i in range(10000):\n",
    "    #2:随机选出一张,观察它一个面的颜色\n",
    "    #随机抽取一张卡片\n",
    "    random.shuffle(cards)\n",
    "    card=cards[0]\n",
    "    #随机选取一面朝上\n",
    "    random.shuffle(card.sides)\n",
    "    color=card.sides[0]\n",
    "    #2.1:如果是蓝色,将卡片放回盒子,本次操作结束.\n",
    "    #2.2：如果是红色,将其翻面,观察另一面的颜色\n",
    "    if(color==\"red\"):\n",
    "        #2.2.1另一面是红色,你给我100\n",
    "        if(card.sides[1]==\"red\"):\n",
    "            my_account+=-100\n",
    "            temp_account+=100\n",
    "            redredcard_count+=1\n",
    "        #2.2.2另一面是蓝色,我给你150\n",
    "        else:            \n",
    "            my_account+=150\n",
    "            temp_account+=-150\n",
    "            redbluecard_count+=1\n",
    "print(\"玩法1\")\n",
    "print(my_account,\":\",temp_account)\n",
    "print(redredcard_count,\":\",redbluecard_count)\n",
    "\n",
    "my_account=0\n",
    "temp_account=0\n",
    "redredcard_count=0\n",
    "redbluecard_count=0\n",
    "#玩法2\n",
    "#玩10000把\n",
    "for i in range(10000):\n",
    "    #2:随机选出一张,观察它一个面的颜色\n",
    "    #随机抽取一张卡片\n",
    "    random.shuffle(cards)\n",
    "    card=cards[0]   \n",
    "    #如果有一面是红色\n",
    "    if(\"red\" in card.sides):\n",
    "        #另一面是红色,你给我100\n",
    "        if(not(\"blue\" in card.sides)):\n",
    "            my_account+=-100\n",
    "            temp_account+=100\n",
    "            redredcard_count+=1\n",
    "        #另一面是蓝色,我给你150\n",
    "        else:            \n",
    "            my_account+=150\n",
    "            temp_account+=-150\n",
    "            redbluecard_count+=1\n",
    "print(\"玩法2\")\n",
    "print(my_account,\":\",temp_account)\n",
    "print(redredcard_count,\":\",redbluecard_count)"
   ]
  },
  {
   "cell_type": "code",
   "execution_count": null,
   "metadata": {
    "collapsed": true
   },
   "outputs": [],
   "source": []
  },
  {
   "cell_type": "code",
   "execution_count": null,
   "metadata": {
    "collapsed": true
   },
   "outputs": [],
   "source": []
  }
 ],
 "metadata": {
  "kernelspec": {
   "display_name": "Python [default]",
   "language": "python",
   "name": "python3"
  },
  "language_info": {
   "codemirror_mode": {
    "name": "ipython",
    "version": 3
   },
   "file_extension": ".py",
   "mimetype": "text/x-python",
   "name": "python",
   "nbconvert_exporter": "python",
   "pygments_lexer": "ipython3",
   "version": "3.5.2"
  }
 },
 "nbformat": 4,
 "nbformat_minor": 1
}
