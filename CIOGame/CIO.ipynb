{
 "cells": [
  {
   "cell_type": "code",
   "execution_count": 59,
   "metadata": {
    "collapsed": true
   },
   "outputs": [],
   "source": [
    "%reload_ext autoreload\n",
    "%autoreload 2\n",
    "import csv\n",
    "from CIOGame import *\n",
    "import pandas as pd\n",
    "import numpy as np\n",
    "from sklearn import linear_model, preprocessing, ensemble\n",
    "import matplotlib.pyplot as plt\n",
    "from sklearn.metrics import mean_squared_error, r2_score\n",
    "from gurobipy import *"
   ]
  },
  {
   "cell_type": "markdown",
   "metadata": {},
   "source": [
    "# Reports in previous semesters"
   ]
  },
  {
   "cell_type": "code",
   "execution_count": null,
   "metadata": {
    "collapsed": true
   },
   "outputs": [],
   "source": [
    "file = 'CMO_Controlling-Tool.xlsx'\n",
    "# Load spreadsheet\n",
    "xl = pd.ExcelFile(file)\n",
    "df=xl.parse('Marketing KPIs').drop(list(range(10,18)))\n",
    "df=df.set_index([list(df.iloc[:,0])]).iloc[:,1:].transpose().drop(['Prozessqualität'],axis=1)\n",
    "df"
   ]
  },
  {
   "cell_type": "code",
   "execution_count": null,
   "metadata": {},
   "outputs": [],
   "source": [
    "cio_game.correlation_matrix(df)"
   ]
  },
  {
   "cell_type": "code",
   "execution_count": null,
   "metadata": {},
   "outputs": [],
   "source": [
    "df_corr=df.corr()\n",
    "df_corr"
   ]
  },
  {
   "cell_type": "code",
   "execution_count": null,
   "metadata": {
    "collapsed": true
   },
   "outputs": [],
   "source": [
    "df_corr.abs().sort_values(by=['     Global'],ascending=False)#.drop([\"Marktanteil (New Savings)\",\"Kundenzufriedenheit\"])"
   ]
  },
  {
   "cell_type": "markdown",
   "metadata": {
    "collapsed": true
   },
   "source": [
    "# CIO regression\n",
    "## Read data sets from .xlsm"
   ]
  },
  {
   "cell_type": "code",
   "execution_count": 267,
   "metadata": {
    "scrolled": true
   },
   "outputs": [
    {
     "name": "stdout",
     "output_type": "stream",
     "text": [
      "Created CIOGame Object for period 5\n"
     ]
    },
    {
     "data": {
      "text/html": [
       "<div>\n",
       "<style>\n",
       "    .dataframe thead tr:only-child th {\n",
       "        text-align: right;\n",
       "    }\n",
       "\n",
       "    .dataframe thead th {\n",
       "        text-align: left;\n",
       "    }\n",
       "\n",
       "    .dataframe tbody tr th {\n",
       "        vertical-align: top;\n",
       "    }\n",
       "</style>\n",
       "<table border=\"1\" class=\"dataframe\">\n",
       "  <thead>\n",
       "    <tr style=\"text-align: right;\">\n",
       "      <th></th>\n",
       "      <th>Car Financing Loans</th>\n",
       "      <th>Customer Savings</th>\n",
       "      <th>Requests to be processed LowPriceCars</th>\n",
       "      <th>Requests to be processed MidPriceCars</th>\n",
       "      <th>Requests to be processed HighPriceCars</th>\n",
       "      <th>Contracts succeeded LowPriceCars</th>\n",
       "      <th>Contracts succeeded MidPriceCars</th>\n",
       "      <th>Contracts succeeded HighPriceCars</th>\n",
       "      <th>Service Transactions to be processed loans</th>\n",
       "      <th>Service Transactions succeeded loans</th>\n",
       "      <th>...</th>\n",
       "      <th>Contracts succeeded savings</th>\n",
       "      <th>Service Transactions succeeded savings</th>\n",
       "      <th>Customer Satisfaction</th>\n",
       "      <th>Marketing Efficiency for product Car Financing Loans</th>\n",
       "      <th>Marketing Efficiency for product Savings Account</th>\n",
       "      <th>Marketing Expenditures Global</th>\n",
       "      <th>Marketing Expenditures Product Loans</th>\n",
       "      <th>Marketing Expenditures Product Savings</th>\n",
       "      <th>Interest Rate Car Financing Loans</th>\n",
       "      <th>Interest Rate Customer Savings</th>\n",
       "    </tr>\n",
       "  </thead>\n",
       "  <tbody>\n",
       "    <tr>\n",
       "      <th>0</th>\n",
       "      <td>1.806205e+09</td>\n",
       "      <td>1.084270e+09</td>\n",
       "      <td>59391.8</td>\n",
       "      <td>74239.8</td>\n",
       "      <td>14848.0</td>\n",
       "      <td>18460.7</td>\n",
       "      <td>23075.9</td>\n",
       "      <td>4615.2</td>\n",
       "      <td>216749.4</td>\n",
       "      <td>173290.4</td>\n",
       "      <td>...</td>\n",
       "      <td>136564.3</td>\n",
       "      <td>156517.6</td>\n",
       "      <td>0.8332</td>\n",
       "      <td>0.7295</td>\n",
       "      <td>0.6915</td>\n",
       "      <td>4500000.0</td>\n",
       "      <td>2220000.0</td>\n",
       "      <td>1200000.0</td>\n",
       "      <td>0.120</td>\n",
       "      <td>0.030</td>\n",
       "    </tr>\n",
       "    <tr>\n",
       "      <th>1</th>\n",
       "      <td>2.595910e+09</td>\n",
       "      <td>9.625200e+08</td>\n",
       "      <td>56685.5</td>\n",
       "      <td>70856.9</td>\n",
       "      <td>14171.4</td>\n",
       "      <td>39239.7</td>\n",
       "      <td>49049.6</td>\n",
       "      <td>9809.9</td>\n",
       "      <td>311509.6</td>\n",
       "      <td>298465.7</td>\n",
       "      <td>...</td>\n",
       "      <td>172480.4</td>\n",
       "      <td>135516.1</td>\n",
       "      <td>0.8492</td>\n",
       "      <td>0.6938</td>\n",
       "      <td>0.6576</td>\n",
       "      <td>4500000.0</td>\n",
       "      <td>2020000.0</td>\n",
       "      <td>1400000.0</td>\n",
       "      <td>0.120</td>\n",
       "      <td>0.035</td>\n",
       "    </tr>\n",
       "    <tr>\n",
       "      <th>2</th>\n",
       "      <td>3.387190e+09</td>\n",
       "      <td>1.138230e+09</td>\n",
       "      <td>62877.9</td>\n",
       "      <td>78597.4</td>\n",
       "      <td>15719.5</td>\n",
       "      <td>41754.9</td>\n",
       "      <td>52193.6</td>\n",
       "      <td>10438.7</td>\n",
       "      <td>406463.3</td>\n",
       "      <td>327376.3</td>\n",
       "      <td>...</td>\n",
       "      <td>308382.6</td>\n",
       "      <td>162806.6</td>\n",
       "      <td>0.8681</td>\n",
       "      <td>0.7884</td>\n",
       "      <td>0.7680</td>\n",
       "      <td>4500000.0</td>\n",
       "      <td>2220000.0</td>\n",
       "      <td>1200000.0</td>\n",
       "      <td>0.123</td>\n",
       "      <td>0.035</td>\n",
       "    </tr>\n",
       "    <tr>\n",
       "      <th>3</th>\n",
       "      <td>3.732180e+09</td>\n",
       "      <td>2.021880e+09</td>\n",
       "      <td>46496.4</td>\n",
       "      <td>58120.5</td>\n",
       "      <td>11624.1</td>\n",
       "      <td>35495.5</td>\n",
       "      <td>44369.4</td>\n",
       "      <td>8873.9</td>\n",
       "      <td>447862.1</td>\n",
       "      <td>425422.3</td>\n",
       "      <td>...</td>\n",
       "      <td>772732.2</td>\n",
       "      <td>285108.1</td>\n",
       "      <td>0.8929</td>\n",
       "      <td>0.9085</td>\n",
       "      <td>0.9026</td>\n",
       "      <td>3300000.0</td>\n",
       "      <td>1100000.0</td>\n",
       "      <td>900000.0</td>\n",
       "      <td>0.130</td>\n",
       "      <td>0.032</td>\n",
       "    </tr>\n",
       "    <tr>\n",
       "      <th>4</th>\n",
       "      <td>4.475400e+09</td>\n",
       "      <td>3.038280e+09</td>\n",
       "      <td>54842.7</td>\n",
       "      <td>68553.3</td>\n",
       "      <td>13710.7</td>\n",
       "      <td>50091.1</td>\n",
       "      <td>62613.9</td>\n",
       "      <td>12522.8</td>\n",
       "      <td>537047.4</td>\n",
       "      <td>524852.8</td>\n",
       "      <td>...</td>\n",
       "      <td>1048853.7</td>\n",
       "      <td>428042.9</td>\n",
       "      <td>0.9269</td>\n",
       "      <td>0.9689</td>\n",
       "      <td>0.9684</td>\n",
       "      <td>3600000.0</td>\n",
       "      <td>1200000.0</td>\n",
       "      <td>1440000.0</td>\n",
       "      <td>0.137</td>\n",
       "      <td>0.030</td>\n",
       "    </tr>\n",
       "    <tr>\n",
       "      <th>5</th>\n",
       "      <td>5.574000e+09</td>\n",
       "      <td>5.433580e+09</td>\n",
       "      <td>63389.0</td>\n",
       "      <td>79236.3</td>\n",
       "      <td>15847.3</td>\n",
       "      <td>60304.8</td>\n",
       "      <td>75381.0</td>\n",
       "      <td>15076.2</td>\n",
       "      <td>668880.0</td>\n",
       "      <td>651918.1</td>\n",
       "      <td>...</td>\n",
       "      <td>2071513.3</td>\n",
       "      <td>668233.4</td>\n",
       "      <td>0.9663</td>\n",
       "      <td>0.9854</td>\n",
       "      <td>0.9854</td>\n",
       "      <td>4500000.0</td>\n",
       "      <td>1500000.0</td>\n",
       "      <td>5000000.0</td>\n",
       "      <td>0.147</td>\n",
       "      <td>0.023</td>\n",
       "    </tr>\n",
       "  </tbody>\n",
       "</table>\n",
       "<p>6 rows × 21 columns</p>\n",
       "</div>"
      ],
      "text/plain": [
       "   Car Financing Loans  Customer Savings  \\\n",
       "0         1.806205e+09      1.084270e+09   \n",
       "1         2.595910e+09      9.625200e+08   \n",
       "2         3.387190e+09      1.138230e+09   \n",
       "3         3.732180e+09      2.021880e+09   \n",
       "4         4.475400e+09      3.038280e+09   \n",
       "5         5.574000e+09      5.433580e+09   \n",
       "\n",
       "   Requests to be processed LowPriceCars  \\\n",
       "0                                59391.8   \n",
       "1                                56685.5   \n",
       "2                                62877.9   \n",
       "3                                46496.4   \n",
       "4                                54842.7   \n",
       "5                                63389.0   \n",
       "\n",
       "   Requests to be processed MidPriceCars  \\\n",
       "0                                74239.8   \n",
       "1                                70856.9   \n",
       "2                                78597.4   \n",
       "3                                58120.5   \n",
       "4                                68553.3   \n",
       "5                                79236.3   \n",
       "\n",
       "   Requests to be processed HighPriceCars  Contracts succeeded LowPriceCars  \\\n",
       "0                                 14848.0                           18460.7   \n",
       "1                                 14171.4                           39239.7   \n",
       "2                                 15719.5                           41754.9   \n",
       "3                                 11624.1                           35495.5   \n",
       "4                                 13710.7                           50091.1   \n",
       "5                                 15847.3                           60304.8   \n",
       "\n",
       "   Contracts succeeded MidPriceCars  Contracts succeeded HighPriceCars  \\\n",
       "0                           23075.9                             4615.2   \n",
       "1                           49049.6                             9809.9   \n",
       "2                           52193.6                            10438.7   \n",
       "3                           44369.4                             8873.9   \n",
       "4                           62613.9                            12522.8   \n",
       "5                           75381.0                            15076.2   \n",
       "\n",
       "   Service Transactions to be processed loans  \\\n",
       "0                                    216749.4   \n",
       "1                                    311509.6   \n",
       "2                                    406463.3   \n",
       "3                                    447862.1   \n",
       "4                                    537047.4   \n",
       "5                                    668880.0   \n",
       "\n",
       "   Service Transactions succeeded loans               ...                \\\n",
       "0                              173290.4               ...                 \n",
       "1                              298465.7               ...                 \n",
       "2                              327376.3               ...                 \n",
       "3                              425422.3               ...                 \n",
       "4                              524852.8               ...                 \n",
       "5                              651918.1               ...                 \n",
       "\n",
       "   Contracts succeeded savings  Service Transactions succeeded savings  \\\n",
       "0                     136564.3                                156517.6   \n",
       "1                     172480.4                                135516.1   \n",
       "2                     308382.6                                162806.6   \n",
       "3                     772732.2                                285108.1   \n",
       "4                    1048853.7                                428042.9   \n",
       "5                    2071513.3                                668233.4   \n",
       "\n",
       "   Customer Satisfaction  \\\n",
       "0                 0.8332   \n",
       "1                 0.8492   \n",
       "2                 0.8681   \n",
       "3                 0.8929   \n",
       "4                 0.9269   \n",
       "5                 0.9663   \n",
       "\n",
       "   Marketing Efficiency for product Car Financing Loans  \\\n",
       "0                                             0.7295      \n",
       "1                                             0.6938      \n",
       "2                                             0.7884      \n",
       "3                                             0.9085      \n",
       "4                                             0.9689      \n",
       "5                                             0.9854      \n",
       "\n",
       "   Marketing Efficiency for product Savings Account  \\\n",
       "0                                            0.6915   \n",
       "1                                            0.6576   \n",
       "2                                            0.7680   \n",
       "3                                            0.9026   \n",
       "4                                            0.9684   \n",
       "5                                            0.9854   \n",
       "\n",
       "   Marketing Expenditures Global  Marketing Expenditures Product Loans  \\\n",
       "0                      4500000.0                             2220000.0   \n",
       "1                      4500000.0                             2020000.0   \n",
       "2                      4500000.0                             2220000.0   \n",
       "3                      3300000.0                             1100000.0   \n",
       "4                      3600000.0                             1200000.0   \n",
       "5                      4500000.0                             1500000.0   \n",
       "\n",
       "   Marketing Expenditures Product Savings  Interest Rate Car Financing Loans  \\\n",
       "0                               1200000.0                              0.120   \n",
       "1                               1400000.0                              0.120   \n",
       "2                               1200000.0                              0.123   \n",
       "3                                900000.0                              0.130   \n",
       "4                               1440000.0                              0.137   \n",
       "5                               5000000.0                              0.147   \n",
       "\n",
       "   Interest Rate Customer Savings  \n",
       "0                           0.030  \n",
       "1                           0.035  \n",
       "2                           0.035  \n",
       "3                           0.032  \n",
       "4                           0.030  \n",
       "5                           0.023  \n",
       "\n",
       "[6 rows x 21 columns]"
      ]
     },
     "execution_count": 267,
     "metadata": {},
     "output_type": "execute_result"
    }
   ],
   "source": [
    "cio_game=CIOGame(5)\n",
    "df_cmo=cio_game.read_from_exel().T\n",
    "df_cmo"
   ]
  },
  {
   "cell_type": "code",
   "execution_count": 268,
   "metadata": {},
   "outputs": [
    {
     "data": {
      "text/plain": [
       "Index(['Car Financing Loans', 'Customer Savings',\n",
       "       'Requests to be processed LowPriceCars',\n",
       "       'Requests to be processed MidPriceCars',\n",
       "       'Requests to be processed HighPriceCars',\n",
       "       'Contracts succeeded LowPriceCars', 'Contracts succeeded MidPriceCars',\n",
       "       'Contracts succeeded HighPriceCars',\n",
       "       'Service Transactions to be processed loans',\n",
       "       'Service Transactions succeeded loans',\n",
       "       'Requests to be processed savings', 'Contracts succeeded savings',\n",
       "       'Service Transactions succeeded savings', 'Customer Satisfaction',\n",
       "       'Marketing Efficiency for product Car Financing Loans',\n",
       "       'Marketing Efficiency for product Savings Account',\n",
       "       'Marketing Expenditures Global', 'Marketing Expenditures Product Loans',\n",
       "       'Marketing Expenditures Product Savings',\n",
       "       'Interest Rate Car Financing Loans', 'Interest Rate Customer Savings'],\n",
       "      dtype='object', name='')"
      ]
     },
     "execution_count": 268,
     "metadata": {},
     "output_type": "execute_result"
    }
   ],
   "source": [
    "df_cmo.keys()"
   ]
  },
  {
   "cell_type": "code",
   "execution_count": 269,
   "metadata": {
    "scrolled": true
   },
   "outputs": [
    {
     "data": {
      "text/html": [
       "<div>\n",
       "<style>\n",
       "    .dataframe thead tr:only-child th {\n",
       "        text-align: right;\n",
       "    }\n",
       "\n",
       "    .dataframe thead th {\n",
       "        text-align: left;\n",
       "    }\n",
       "\n",
       "    .dataframe tbody tr th {\n",
       "        vertical-align: top;\n",
       "    }\n",
       "</style>\n",
       "<table border=\"1\" class=\"dataframe\">\n",
       "  <thead>\n",
       "    <tr style=\"text-align: right;\">\n",
       "      <th></th>\n",
       "      <th>Car Financing Loans</th>\n",
       "      <th>Service Transactions succeeded loans</th>\n",
       "      <th>Contracts succeeded Total</th>\n",
       "    </tr>\n",
       "  </thead>\n",
       "  <tbody>\n",
       "    <tr>\n",
       "      <th>0</th>\n",
       "      <td>1.806205e+09</td>\n",
       "      <td>173290.4</td>\n",
       "      <td>46151.8</td>\n",
       "    </tr>\n",
       "    <tr>\n",
       "      <th>1</th>\n",
       "      <td>2.595910e+09</td>\n",
       "      <td>298465.7</td>\n",
       "      <td>98099.2</td>\n",
       "    </tr>\n",
       "    <tr>\n",
       "      <th>2</th>\n",
       "      <td>3.387190e+09</td>\n",
       "      <td>327376.3</td>\n",
       "      <td>104387.2</td>\n",
       "    </tr>\n",
       "    <tr>\n",
       "      <th>3</th>\n",
       "      <td>3.732180e+09</td>\n",
       "      <td>425422.3</td>\n",
       "      <td>88738.8</td>\n",
       "    </tr>\n",
       "    <tr>\n",
       "      <th>4</th>\n",
       "      <td>4.475400e+09</td>\n",
       "      <td>524852.8</td>\n",
       "      <td>125227.8</td>\n",
       "    </tr>\n",
       "    <tr>\n",
       "      <th>5</th>\n",
       "      <td>5.574000e+09</td>\n",
       "      <td>651918.1</td>\n",
       "      <td>150762.0</td>\n",
       "    </tr>\n",
       "  </tbody>\n",
       "</table>\n",
       "</div>"
      ],
      "text/plain": [
       "   Car Financing Loans  Service Transactions succeeded loans  \\\n",
       "0         1.806205e+09                              173290.4   \n",
       "1         2.595910e+09                              298465.7   \n",
       "2         3.387190e+09                              327376.3   \n",
       "3         3.732180e+09                              425422.3   \n",
       "4         4.475400e+09                              524852.8   \n",
       "5         5.574000e+09                              651918.1   \n",
       "\n",
       "   Contracts succeeded Total  \n",
       "0                    46151.8  \n",
       "1                    98099.2  \n",
       "2                   104387.2  \n",
       "3                    88738.8  \n",
       "4                   125227.8  \n",
       "5                   150762.0  "
      ]
     },
     "execution_count": 269,
     "metadata": {},
     "output_type": "execute_result"
    }
   ],
   "source": [
    "sum_contracts_succeeded_loans=df_cmo[[\n",
    "    'Contracts succeeded LowPriceCars',\n",
    "    'Contracts succeeded MidPriceCars',\n",
    "    'Contracts succeeded HighPriceCars'\n",
    "]].sum(axis=1).rename(\"Contracts succeeded Total\")\n",
    "\n",
    "df_loans=df_cmo[[\n",
    "    \"Car Financing Loans\",\n",
    "    'Service Transactions succeeded loans',\n",
    "]]\n",
    "df_loans=df_loans.T.append(sum_contracts_succeeded_loans).T\n",
    "df_loans"
   ]
  },
  {
   "cell_type": "markdown",
   "metadata": {},
   "source": [
    "## Find the best regression model"
   ]
  },
  {
   "cell_type": "code",
   "execution_count": 276,
   "metadata": {},
   "outputs": [
    {
     "name": "stdout",
     "output_type": "stream",
     "text": [
      "[0.0072008838816408627, 0.1981230339508222, 0.16317272810997352, 0.020450840665972025, 0.032614101431490683]\n",
      "5574000000.0\n",
      "5509205729.29\n",
      "                               features  estimatedCoefficients\n",
      "0  Service Transactions succeeded loans            6848.753335\n",
      "1             Contracts succeeded Total            4187.009921\n"
     ]
    }
   ],
   "source": [
    "y=df_loans[\"Car Financing Loans\"]\n",
    "X=df_loans.drop([\"Car Financing Loans\"],axis=1)\n",
    "regr_loans=cio_game.find_best_regr(X[:-1],y[:-1],X.iloc[len(X)-1],y.iloc[len(y)-1])"
   ]
  },
  {
   "cell_type": "markdown",
   "metadata": {},
   "source": [
    "## Find the relationship of amount contracts in last period and amount of service transactions in this period"
   ]
  },
  {
   "cell_type": "code",
   "execution_count": 271,
   "metadata": {
    "scrolled": false
   },
   "outputs": [
    {
     "data": {
      "text/html": [
       "<div>\n",
       "<style>\n",
       "    .dataframe thead tr:only-child th {\n",
       "        text-align: right;\n",
       "    }\n",
       "\n",
       "    .dataframe thead th {\n",
       "        text-align: left;\n",
       "    }\n",
       "\n",
       "    .dataframe tbody tr th {\n",
       "        vertical-align: top;\n",
       "    }\n",
       "</style>\n",
       "<table border=\"1\" class=\"dataframe\">\n",
       "  <thead>\n",
       "    <tr style=\"text-align: right;\">\n",
       "      <th></th>\n",
       "      <th>Service Transactions succeeded loans</th>\n",
       "      <th>Contracts succeeded Total</th>\n",
       "      <th>Service Transactions to be processed loans next Period</th>\n",
       "      <th>Service Transactions to be processed loans last Period</th>\n",
       "    </tr>\n",
       "  </thead>\n",
       "  <tbody>\n",
       "    <tr>\n",
       "      <th>0</th>\n",
       "      <td>173290.4</td>\n",
       "      <td>46151.8</td>\n",
       "      <td>311509.6</td>\n",
       "      <td>NaN</td>\n",
       "    </tr>\n",
       "    <tr>\n",
       "      <th>1</th>\n",
       "      <td>298465.7</td>\n",
       "      <td>98099.2</td>\n",
       "      <td>406463.3</td>\n",
       "      <td>173290.4</td>\n",
       "    </tr>\n",
       "    <tr>\n",
       "      <th>2</th>\n",
       "      <td>327376.3</td>\n",
       "      <td>104387.2</td>\n",
       "      <td>447862.1</td>\n",
       "      <td>298465.7</td>\n",
       "    </tr>\n",
       "    <tr>\n",
       "      <th>3</th>\n",
       "      <td>425422.3</td>\n",
       "      <td>88738.8</td>\n",
       "      <td>537047.4</td>\n",
       "      <td>327376.3</td>\n",
       "    </tr>\n",
       "    <tr>\n",
       "      <th>4</th>\n",
       "      <td>524852.8</td>\n",
       "      <td>125227.8</td>\n",
       "      <td>668880.0</td>\n",
       "      <td>425422.3</td>\n",
       "    </tr>\n",
       "    <tr>\n",
       "      <th>5</th>\n",
       "      <td>651918.1</td>\n",
       "      <td>150762.0</td>\n",
       "      <td>NaN</td>\n",
       "      <td>524852.8</td>\n",
       "    </tr>\n",
       "  </tbody>\n",
       "</table>\n",
       "</div>"
      ],
      "text/plain": [
       "   Service Transactions succeeded loans  Contracts succeeded Total  \\\n",
       "0                              173290.4                    46151.8   \n",
       "1                              298465.7                    98099.2   \n",
       "2                              327376.3                   104387.2   \n",
       "3                              425422.3                    88738.8   \n",
       "4                              524852.8                   125227.8   \n",
       "5                              651918.1                   150762.0   \n",
       "\n",
       "   Service Transactions to be processed loans next Period  \\\n",
       "0                                           311509.6        \n",
       "1                                           406463.3        \n",
       "2                                           447862.1        \n",
       "3                                           537047.4        \n",
       "4                                           668880.0        \n",
       "5                                                NaN        \n",
       "\n",
       "   Service Transactions to be processed loans last Period  \n",
       "0                                                NaN       \n",
       "1                                           173290.4       \n",
       "2                                           298465.7       \n",
       "3                                           327376.3       \n",
       "4                                           425422.3       \n",
       "5                                           524852.8       "
      ]
     },
     "execution_count": 271,
     "metadata": {},
     "output_type": "execute_result"
    }
   ],
   "source": [
    "df_ta_loans=df_loans.drop([\"Car Financing Loans\"],axis=1).T.append(df_cmo[\"Service Transactions to be processed loans\"].shift(-1).rename(\"Service Transactions to be processed loans next Period\"))\n",
    "df_ta_loans=df_ta_loans.append(df_cmo[\"Service Transactions succeeded loans\"].shift(1).rename(\"Service Transactions to be processed loans last Period\")).T\n",
    "df_ta_loans"
   ]
  },
  {
   "cell_type": "code",
   "execution_count": 272,
   "metadata": {
    "scrolled": true
   },
   "outputs": [
    {
     "name": "stdout",
     "output_type": "stream",
     "text": [
      "[0.1159725350443257, 0.059820206270812859, 0.028533388938561721, 0.058510362172537578]\n",
      "nan\n",
      "813679.61353\n",
      "                                            features  estimatedCoefficients\n",
      "0               Service Transactions succeeded loans               1.056644\n",
      "1                          Contracts succeeded Total               0.093373\n",
      "2  Service Transactions to be processed loans las...               0.081993\n"
     ]
    }
   ],
   "source": [
    "y=df_ta_loans[\"Service Transactions to be processed loans next Period\"][1:]\n",
    "X=df_ta_loans.drop([\"Service Transactions to be processed loans next Period\"],axis=1)[1:]\n",
    "regr_loans=cio_game.find_best_regr(X[:-1],y[:-1],X.iloc[len(X)-1],y.iloc[len(y)-1])"
   ]
  },
  {
   "cell_type": "code",
   "execution_count": 273,
   "metadata": {
    "scrolled": true
   },
   "outputs": [
    {
     "data": {
      "text/html": [
       "<div>\n",
       "<style>\n",
       "    .dataframe thead tr:only-child th {\n",
       "        text-align: right;\n",
       "    }\n",
       "\n",
       "    .dataframe thead th {\n",
       "        text-align: left;\n",
       "    }\n",
       "\n",
       "    .dataframe tbody tr th {\n",
       "        vertical-align: top;\n",
       "    }\n",
       "</style>\n",
       "<table border=\"1\" class=\"dataframe\">\n",
       "  <thead>\n",
       "    <tr style=\"text-align: right;\">\n",
       "      <th></th>\n",
       "      <th>Service Transactions succeeded loans next Period</th>\n",
       "      <th>Contracts succeeded Total</th>\n",
       "    </tr>\n",
       "  </thead>\n",
       "  <tbody>\n",
       "    <tr>\n",
       "      <th>0</th>\n",
       "      <td>311509.6</td>\n",
       "      <td>219442.2</td>\n",
       "    </tr>\n",
       "    <tr>\n",
       "      <th>1</th>\n",
       "      <td>406463.3</td>\n",
       "      <td>396564.9</td>\n",
       "    </tr>\n",
       "    <tr>\n",
       "      <th>2</th>\n",
       "      <td>447862.1</td>\n",
       "      <td>431763.5</td>\n",
       "    </tr>\n",
       "    <tr>\n",
       "      <th>3</th>\n",
       "      <td>537047.4</td>\n",
       "      <td>514161.1</td>\n",
       "    </tr>\n",
       "    <tr>\n",
       "      <th>4</th>\n",
       "      <td>668880.0</td>\n",
       "      <td>650080.6</td>\n",
       "    </tr>\n",
       "    <tr>\n",
       "      <th>5</th>\n",
       "      <td>NaN</td>\n",
       "      <td>802680.1</td>\n",
       "    </tr>\n",
       "  </tbody>\n",
       "</table>\n",
       "</div>"
      ],
      "text/plain": [
       "   Service Transactions succeeded loans next Period  Contracts succeeded Total\n",
       "0                                          311509.6                   219442.2\n",
       "1                                          406463.3                   396564.9\n",
       "2                                          447862.1                   431763.5\n",
       "3                                          537047.4                   514161.1\n",
       "4                                          668880.0                   650080.6\n",
       "5                                               NaN                   802680.1"
      ]
     },
     "execution_count": 273,
     "metadata": {},
     "output_type": "execute_result"
    }
   ],
   "source": [
    "pd.DataFrame([df_cmo[\"Service Transactions to be processed loans\"].shift(-1).rename(\"Service Transactions succeeded loans next Period\"),df_cmo[[\n",
    "    'Contracts succeeded LowPriceCars',\n",
    "    'Contracts succeeded MidPriceCars',\n",
    "    'Contracts succeeded HighPriceCars',\n",
    "    'Service Transactions succeeded loans',\n",
    "]].sum(axis=1).rename(\"Contracts succeeded Total\")]).T"
   ]
  },
  {
   "cell_type": "markdown",
   "metadata": {},
   "source": [
    "# test"
   ]
  },
  {
   "cell_type": "code",
   "execution_count": 288,
   "metadata": {
    "scrolled": false
   },
   "outputs": [],
   "source": [
    "global_expenditure=np.array([4500000,4500000,4500000,3300000,3600000,4500000])\n",
    "\n",
    "savings_intrests_rate=np.array([0.0300,0.0350,0.0350,0.0320,0.03,0.023])\n",
    "savings_expenditure=np.array([1200000,1400000,1200000,900000,1440000,5000000])\n",
    "savings_marketing_efficiency=np.array([0.6915,0.6576,0.7680,0.9026,0.9684,0.9864])\n",
    "\n",
    "loans_intrests_rate=np.array([0.12,0.12,0.123,0.13,0.137,0.147])\n",
    "loans_expenditure=np.array([2220000,2020000,2220000,1100000,1200000,1500000])\n",
    "loans_marketing_efficiency=np.array([0.7295,0.6938,0.7884,0.9085,0.9689,0.9854])\n",
    "\n",
    "savings_requests=np.array([902795.10,951090.40,993601.10,837795.40,1114117.8,2376077.1 ])\n",
    "loans_requests=np.array([148479.60,141713.80 ,157194.80 ,116241.00,137106.70,158472.6])\n",
    "#loans_requests=np.array([74239.80 ,70856.90 ,78597.40 ,58120.50 ,68553.30 ,79236.3])\n",
    "\n",
    "df_savings=pd.DataFrame({\n",
    "    \"global_expenditure\":global_expenditure,\n",
    "    \"savings_expenditure\":savings_expenditure,\n",
    "    \"savings_intrests_rate\":savings_intrests_rate,\n",
    "    \"savings_marketing_efficiency\":savings_marketing_efficiency,\n",
    "    \"savings_requests\":savings_requests})[:-1]\n",
    "df_loans=pd.DataFrame({\n",
    "    \"global_expenditure\":global_expenditure,\n",
    "    \"loans_expenditure\":loans_expenditure,\n",
    "    \"loans_intrests_rate\":loans_intrests_rate,\n",
    "    \"loans_marketing_efficiency\":loans_marketing_efficiency,\n",
    "    \"loans_requests\":loans_requests})[:-1]"
   ]
  },
  {
   "cell_type": "code",
   "execution_count": 289,
   "metadata": {},
   "outputs": [
    {
     "data": {
      "text/html": [
       "<div>\n",
       "<style>\n",
       "    .dataframe thead tr:only-child th {\n",
       "        text-align: right;\n",
       "    }\n",
       "\n",
       "    .dataframe thead th {\n",
       "        text-align: left;\n",
       "    }\n",
       "\n",
       "    .dataframe tbody tr th {\n",
       "        vertical-align: top;\n",
       "    }\n",
       "</style>\n",
       "<table border=\"1\" class=\"dataframe\">\n",
       "  <thead>\n",
       "    <tr style=\"text-align: right;\">\n",
       "      <th></th>\n",
       "      <th>global_expenditure</th>\n",
       "      <th>savings_expenditure</th>\n",
       "      <th>savings_intrests_rate</th>\n",
       "      <th>savings_marketing_efficiency</th>\n",
       "      <th>savings_requests</th>\n",
       "    </tr>\n",
       "  </thead>\n",
       "  <tbody>\n",
       "    <tr>\n",
       "      <th>0</th>\n",
       "      <td>4500000</td>\n",
       "      <td>1200000</td>\n",
       "      <td>0.030</td>\n",
       "      <td>0.6915</td>\n",
       "      <td>902795.1</td>\n",
       "    </tr>\n",
       "    <tr>\n",
       "      <th>1</th>\n",
       "      <td>4500000</td>\n",
       "      <td>1400000</td>\n",
       "      <td>0.035</td>\n",
       "      <td>0.6576</td>\n",
       "      <td>951090.4</td>\n",
       "    </tr>\n",
       "    <tr>\n",
       "      <th>2</th>\n",
       "      <td>4500000</td>\n",
       "      <td>1200000</td>\n",
       "      <td>0.035</td>\n",
       "      <td>0.7680</td>\n",
       "      <td>993601.1</td>\n",
       "    </tr>\n",
       "    <tr>\n",
       "      <th>3</th>\n",
       "      <td>3300000</td>\n",
       "      <td>900000</td>\n",
       "      <td>0.032</td>\n",
       "      <td>0.9026</td>\n",
       "      <td>837795.4</td>\n",
       "    </tr>\n",
       "    <tr>\n",
       "      <th>4</th>\n",
       "      <td>3600000</td>\n",
       "      <td>1440000</td>\n",
       "      <td>0.030</td>\n",
       "      <td>0.9684</td>\n",
       "      <td>1114117.8</td>\n",
       "    </tr>\n",
       "  </tbody>\n",
       "</table>\n",
       "</div>"
      ],
      "text/plain": [
       "   global_expenditure  savings_expenditure  savings_intrests_rate  \\\n",
       "0             4500000              1200000                  0.030   \n",
       "1             4500000              1400000                  0.035   \n",
       "2             4500000              1200000                  0.035   \n",
       "3             3300000               900000                  0.032   \n",
       "4             3600000              1440000                  0.030   \n",
       "\n",
       "   savings_marketing_efficiency  savings_requests  \n",
       "0                        0.6915          902795.1  \n",
       "1                        0.6576          951090.4  \n",
       "2                        0.7680          993601.1  \n",
       "3                        0.9026          837795.4  \n",
       "4                        0.9684         1114117.8  "
      ]
     },
     "execution_count": 289,
     "metadata": {},
     "output_type": "execute_result"
    }
   ],
   "source": [
    "df_savings"
   ]
  },
  {
   "cell_type": "code",
   "execution_count": 26,
   "metadata": {
    "scrolled": true
   },
   "outputs": [
    {
     "data": {
      "text/plain": [
       "0    4500000\n",
       "1    4500000\n",
       "2    4500000\n",
       "3    3300000\n",
       "4    3600000\n",
       "Name: global_expenditure, dtype: int64"
      ]
     },
     "execution_count": 26,
     "metadata": {},
     "output_type": "execute_result"
    }
   ],
   "source": [
    "df_loans[\"global_expenditure\"]"
   ]
  },
  {
   "cell_type": "code",
   "execution_count": 290,
   "metadata": {},
   "outputs": [
    {
     "ename": "NameError",
     "evalue": "name 'find_best_regr' is not defined",
     "output_type": "error",
     "traceback": [
      "\u001b[0;31m---------------------------------------------------------------------------\u001b[0m",
      "\u001b[0;31mNameError\u001b[0m                                 Traceback (most recent call last)",
      "\u001b[0;32m<ipython-input-290-36fb1f46c7fe>\u001b[0m in \u001b[0;36m<module>\u001b[0;34m()\u001b[0m\n\u001b[1;32m      9\u001b[0m })\n\u001b[1;32m     10\u001b[0m \u001b[0;34m\u001b[0m\u001b[0m\n\u001b[0;32m---> 11\u001b[0;31m \u001b[0mbest_regr_savings\u001b[0m\u001b[0;34m=\u001b[0m\u001b[0mfind_best_regr\u001b[0m\u001b[0;34m(\u001b[0m\u001b[0mX_savings\u001b[0m\u001b[0;34m,\u001b[0m\u001b[0my_savings\u001b[0m\u001b[0;34m,\u001b[0m\u001b[0mdf_savings_pre\u001b[0m\u001b[0;34m,\u001b[0m\u001b[0;36m2376077.1\u001b[0m\u001b[0;34m)\u001b[0m\u001b[0;34m\u001b[0m\u001b[0m\n\u001b[0m",
      "\u001b[0;31mNameError\u001b[0m: name 'find_best_regr' is not defined"
     ]
    }
   ],
   "source": [
    "y_savings=df_savings[\"savings_requests\"]\n",
    "X_savings=df_savings.drop([\"savings_requests\"],axis=1)\n",
    "\n",
    "df_savings_pre=pd.DataFrame({\n",
    "    \"global_expenditure\":[4500000],\n",
    "    \"savings_expenditure\":[5000000],\n",
    "    \"savings_intrests_rate\":[0.02],\n",
    "    \"savings_marketing_efficiency\":[0.9854]\n",
    "})\n",
    "\n",
    "best_regr_savings=find_best_regr(X_savings,y_savings,df_savings_pre,2376077.1)"
   ]
  },
  {
   "cell_type": "code",
   "execution_count": null,
   "metadata": {},
   "outputs": [],
   "source": [
    "y_loans=df_loans[\"loans_requests\"]\n",
    "X_loans=df_loans.drop([\"loans_requests\"],axis=1)\n",
    "\n",
    "df_loans_pre=pd.DataFrame({\n",
    "    \"global_expenditure\":[4500000],\n",
    "    \"savings_expenditure\":[1500000],\n",
    "    \"savings_intrests_rate\":[0.147],\n",
    "    \"savings_marketing_efficiency\":[0.9854]\n",
    "})\n",
    "\n",
    "best_regr_loans=find_best_regr(X_loans,y_loans,df_loans_pre,158472.6)"
   ]
  },
  {
   "cell_type": "code",
   "execution_count": null,
   "metadata": {},
   "outputs": [],
   "source": [
    "best_regr_savings.coef_"
   ]
  },
  {
   "cell_type": "code",
   "execution_count": null,
   "metadata": {},
   "outputs": [],
   "source": [
    "best_regr_loans.coef_"
   ]
  },
  {
   "cell_type": "code",
   "execution_count": null,
   "metadata": {
    "collapsed": true
   },
   "outputs": [],
   "source": []
  }
 ],
 "metadata": {
  "kernelspec": {
   "display_name": "Python 3",
   "language": "python",
   "name": "python3"
  },
  "language_info": {
   "codemirror_mode": {
    "name": "ipython",
    "version": 3
   },
   "file_extension": ".py",
   "mimetype": "text/x-python",
   "name": "python",
   "nbconvert_exporter": "python",
   "pygments_lexer": "ipython3",
   "version": "3.6.1"
  }
 },
 "nbformat": 4,
 "nbformat_minor": 2
}
