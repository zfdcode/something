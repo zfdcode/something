{
 "cells": [
  {
   "cell_type": "code",
   "execution_count": 1,
   "metadata": {
    "collapsed": true
   },
   "outputs": [],
   "source": [
    "%reload_ext autoreload\n",
    "%autoreload 2\n",
    "import csv\n",
    "from CIOGame import *\n",
    "import pandas as pd\n",
    "import numpy as np\n",
    "from sklearn import linear_model, preprocessing, ensemble\n",
    "import matplotlib.pyplot as plt\n",
    "from sklearn.metrics import mean_squared_error, r2_score\n",
    "from gurobipy import *"
   ]
  },
  {
   "cell_type": "markdown",
   "metadata": {},
   "source": [
    "# Reports in previous semesters"
   ]
  },
  {
   "cell_type": "code",
   "execution_count": null,
   "metadata": {
    "collapsed": true
   },
   "outputs": [],
   "source": [
    "file = 'CMO_Controlling-Tool.xlsx'\n",
    "# Load spreadsheet\n",
    "xl = pd.ExcelFile(file)\n",
    "df=xl.parse('Marketing KPIs').drop(list(range(10,18)))\n",
    "df=df.set_index([list(df.iloc[:,0])]).iloc[:,1:].transpose().drop(['Prozessqualität'],axis=1)\n",
    "df"
   ]
  },
  {
   "cell_type": "code",
   "execution_count": null,
   "metadata": {},
   "outputs": [],
   "source": [
    "cio_game.correlation_matrix(df)"
   ]
  },
  {
   "cell_type": "code",
   "execution_count": null,
   "metadata": {},
   "outputs": [],
   "source": [
    "df_corr=df.corr()\n",
    "df_corr"
   ]
  },
  {
   "cell_type": "code",
   "execution_count": null,
   "metadata": {
    "collapsed": true
   },
   "outputs": [],
   "source": [
    "df_corr.abs().sort_values(by=['     Global'],ascending=False)#.drop([\"Marktanteil (New Savings)\",\"Kundenzufriedenheit\"])"
   ]
  },
  {
   "cell_type": "markdown",
   "metadata": {
    "collapsed": true
   },
   "source": [
    "# CIO regression\n",
    "## Read data sets from .xlsm"
   ]
  },
  {
   "cell_type": "code",
   "execution_count": 97,
   "metadata": {
    "scrolled": true
   },
   "outputs": [
    {
     "name": "stdout",
     "output_type": "stream",
     "text": [
      "Created CIOGame Object for period 5\n"
     ]
    },
    {
     "data": {
      "text/html": [
       "<div>\n",
       "<style>\n",
       "    .dataframe thead tr:only-child th {\n",
       "        text-align: right;\n",
       "    }\n",
       "\n",
       "    .dataframe thead th {\n",
       "        text-align: left;\n",
       "    }\n",
       "\n",
       "    .dataframe tbody tr th {\n",
       "        vertical-align: top;\n",
       "    }\n",
       "</style>\n",
       "<table border=\"1\" class=\"dataframe\">\n",
       "  <thead>\n",
       "    <tr style=\"text-align: right;\">\n",
       "      <th></th>\n",
       "      <th>Car Financing Loans</th>\n",
       "      <th>Customer Savings</th>\n",
       "      <th>Requests to be processed LowPriceCars</th>\n",
       "      <th>Requests to be processed MidPriceCars</th>\n",
       "      <th>Requests to be processed HighPriceCars</th>\n",
       "      <th>Contracts succeeded LowPriceCars</th>\n",
       "      <th>Contracts succeeded MidPriceCars</th>\n",
       "      <th>Contracts succeeded HighPriceCars</th>\n",
       "      <th>Service Transactions to be processed loans</th>\n",
       "      <th>Service Transactions succeeded loans</th>\n",
       "      <th>...</th>\n",
       "      <th>Service Transactions to be processed savings</th>\n",
       "      <th>Service Transactions succeeded savings</th>\n",
       "      <th>Customer Satisfaction</th>\n",
       "      <th>Marketing Efficiency for product Car Financing Loans</th>\n",
       "      <th>Marketing Efficiency for product Savings Account</th>\n",
       "      <th>Marketing Expenditures Global</th>\n",
       "      <th>Marketing Expenditures Product Loans</th>\n",
       "      <th>Marketing Expenditures Product Savings</th>\n",
       "      <th>Interest Rate Car Financing Loans</th>\n",
       "      <th>Interest Rate Customer Savings</th>\n",
       "    </tr>\n",
       "  </thead>\n",
       "  <tbody>\n",
       "    <tr>\n",
       "      <th>0</th>\n",
       "      <td>1.806205e+09</td>\n",
       "      <td>1.084270e+09</td>\n",
       "      <td>59391.8</td>\n",
       "      <td>74239.8</td>\n",
       "      <td>14848.0</td>\n",
       "      <td>18460.7</td>\n",
       "      <td>23075.9</td>\n",
       "      <td>4615.2</td>\n",
       "      <td>216749.4</td>\n",
       "      <td>173290.4</td>\n",
       "      <td>...</td>\n",
       "      <td>162640.8</td>\n",
       "      <td>156517.6</td>\n",
       "      <td>0.8332</td>\n",
       "      <td>0.7295</td>\n",
       "      <td>0.6915</td>\n",
       "      <td>4500000.0</td>\n",
       "      <td>2220000.0</td>\n",
       "      <td>1200000.0</td>\n",
       "      <td>0.120</td>\n",
       "      <td>0.030</td>\n",
       "    </tr>\n",
       "    <tr>\n",
       "      <th>1</th>\n",
       "      <td>2.595910e+09</td>\n",
       "      <td>9.625200e+08</td>\n",
       "      <td>56685.5</td>\n",
       "      <td>70856.9</td>\n",
       "      <td>14171.4</td>\n",
       "      <td>39239.7</td>\n",
       "      <td>49049.6</td>\n",
       "      <td>9809.9</td>\n",
       "      <td>311509.6</td>\n",
       "      <td>298465.7</td>\n",
       "      <td>...</td>\n",
       "      <td>144377.4</td>\n",
       "      <td>135516.1</td>\n",
       "      <td>0.8492</td>\n",
       "      <td>0.6938</td>\n",
       "      <td>0.6576</td>\n",
       "      <td>4500000.0</td>\n",
       "      <td>2020000.0</td>\n",
       "      <td>1400000.0</td>\n",
       "      <td>0.120</td>\n",
       "      <td>0.035</td>\n",
       "    </tr>\n",
       "    <tr>\n",
       "      <th>2</th>\n",
       "      <td>3.387190e+09</td>\n",
       "      <td>1.138230e+09</td>\n",
       "      <td>62877.9</td>\n",
       "      <td>78597.4</td>\n",
       "      <td>15719.5</td>\n",
       "      <td>41754.9</td>\n",
       "      <td>52193.6</td>\n",
       "      <td>10438.7</td>\n",
       "      <td>406463.3</td>\n",
       "      <td>327376.3</td>\n",
       "      <td>...</td>\n",
       "      <td>170734.6</td>\n",
       "      <td>162806.6</td>\n",
       "      <td>0.8681</td>\n",
       "      <td>0.7884</td>\n",
       "      <td>0.7680</td>\n",
       "      <td>4500000.0</td>\n",
       "      <td>2220000.0</td>\n",
       "      <td>1200000.0</td>\n",
       "      <td>0.123</td>\n",
       "      <td>0.035</td>\n",
       "    </tr>\n",
       "    <tr>\n",
       "      <th>3</th>\n",
       "      <td>3.732180e+09</td>\n",
       "      <td>2.021880e+09</td>\n",
       "      <td>46496.4</td>\n",
       "      <td>58120.5</td>\n",
       "      <td>11624.1</td>\n",
       "      <td>35495.5</td>\n",
       "      <td>44369.4</td>\n",
       "      <td>8873.9</td>\n",
       "      <td>447862.1</td>\n",
       "      <td>425422.3</td>\n",
       "      <td>...</td>\n",
       "      <td>303281.3</td>\n",
       "      <td>285108.1</td>\n",
       "      <td>0.8929</td>\n",
       "      <td>0.9085</td>\n",
       "      <td>0.9026</td>\n",
       "      <td>3300000.0</td>\n",
       "      <td>1100000.0</td>\n",
       "      <td>900000.0</td>\n",
       "      <td>0.130</td>\n",
       "      <td>0.032</td>\n",
       "    </tr>\n",
       "    <tr>\n",
       "      <th>4</th>\n",
       "      <td>4.475400e+09</td>\n",
       "      <td>3.038280e+09</td>\n",
       "      <td>54842.7</td>\n",
       "      <td>68553.3</td>\n",
       "      <td>13710.7</td>\n",
       "      <td>50091.1</td>\n",
       "      <td>62613.9</td>\n",
       "      <td>12522.8</td>\n",
       "      <td>537047.4</td>\n",
       "      <td>524852.8</td>\n",
       "      <td>...</td>\n",
       "      <td>455742.2</td>\n",
       "      <td>428042.9</td>\n",
       "      <td>0.9269</td>\n",
       "      <td>0.9689</td>\n",
       "      <td>0.9684</td>\n",
       "      <td>3600000.0</td>\n",
       "      <td>1200000.0</td>\n",
       "      <td>1440000.0</td>\n",
       "      <td>0.137</td>\n",
       "      <td>0.030</td>\n",
       "    </tr>\n",
       "    <tr>\n",
       "      <th>5</th>\n",
       "      <td>5.574000e+09</td>\n",
       "      <td>5.433580e+09</td>\n",
       "      <td>63389.0</td>\n",
       "      <td>79236.3</td>\n",
       "      <td>15847.3</td>\n",
       "      <td>60304.8</td>\n",
       "      <td>75381.0</td>\n",
       "      <td>15076.2</td>\n",
       "      <td>668880.0</td>\n",
       "      <td>651918.1</td>\n",
       "      <td>...</td>\n",
       "      <td>815036.6</td>\n",
       "      <td>668233.4</td>\n",
       "      <td>0.9663</td>\n",
       "      <td>0.9854</td>\n",
       "      <td>0.9854</td>\n",
       "      <td>4500000.0</td>\n",
       "      <td>1500000.0</td>\n",
       "      <td>5000000.0</td>\n",
       "      <td>0.147</td>\n",
       "      <td>0.023</td>\n",
       "    </tr>\n",
       "  </tbody>\n",
       "</table>\n",
       "<p>6 rows × 22 columns</p>\n",
       "</div>"
      ],
      "text/plain": [
       "   Car Financing Loans  Customer Savings  \\\n",
       "0         1.806205e+09      1.084270e+09   \n",
       "1         2.595910e+09      9.625200e+08   \n",
       "2         3.387190e+09      1.138230e+09   \n",
       "3         3.732180e+09      2.021880e+09   \n",
       "4         4.475400e+09      3.038280e+09   \n",
       "5         5.574000e+09      5.433580e+09   \n",
       "\n",
       "   Requests to be processed LowPriceCars  \\\n",
       "0                                59391.8   \n",
       "1                                56685.5   \n",
       "2                                62877.9   \n",
       "3                                46496.4   \n",
       "4                                54842.7   \n",
       "5                                63389.0   \n",
       "\n",
       "   Requests to be processed MidPriceCars  \\\n",
       "0                                74239.8   \n",
       "1                                70856.9   \n",
       "2                                78597.4   \n",
       "3                                58120.5   \n",
       "4                                68553.3   \n",
       "5                                79236.3   \n",
       "\n",
       "   Requests to be processed HighPriceCars  Contracts succeeded LowPriceCars  \\\n",
       "0                                 14848.0                           18460.7   \n",
       "1                                 14171.4                           39239.7   \n",
       "2                                 15719.5                           41754.9   \n",
       "3                                 11624.1                           35495.5   \n",
       "4                                 13710.7                           50091.1   \n",
       "5                                 15847.3                           60304.8   \n",
       "\n",
       "   Contracts succeeded MidPriceCars  Contracts succeeded HighPriceCars  \\\n",
       "0                           23075.9                             4615.2   \n",
       "1                           49049.6                             9809.9   \n",
       "2                           52193.6                            10438.7   \n",
       "3                           44369.4                             8873.9   \n",
       "4                           62613.9                            12522.8   \n",
       "5                           75381.0                            15076.2   \n",
       "\n",
       "   Service Transactions to be processed loans  \\\n",
       "0                                    216749.4   \n",
       "1                                    311509.6   \n",
       "2                                    406463.3   \n",
       "3                                    447862.1   \n",
       "4                                    537047.4   \n",
       "5                                    668880.0   \n",
       "\n",
       "   Service Transactions succeeded loans               ...                \\\n",
       "0                              173290.4               ...                 \n",
       "1                              298465.7               ...                 \n",
       "2                              327376.3               ...                 \n",
       "3                              425422.3               ...                 \n",
       "4                              524852.8               ...                 \n",
       "5                              651918.1               ...                 \n",
       "\n",
       "   Service Transactions to be processed savings  \\\n",
       "0                                      162640.8   \n",
       "1                                      144377.4   \n",
       "2                                      170734.6   \n",
       "3                                      303281.3   \n",
       "4                                      455742.2   \n",
       "5                                      815036.6   \n",
       "\n",
       "   Service Transactions succeeded savings  Customer Satisfaction  \\\n",
       "0                                156517.6                 0.8332   \n",
       "1                                135516.1                 0.8492   \n",
       "2                                162806.6                 0.8681   \n",
       "3                                285108.1                 0.8929   \n",
       "4                                428042.9                 0.9269   \n",
       "5                                668233.4                 0.9663   \n",
       "\n",
       "   Marketing Efficiency for product Car Financing Loans  \\\n",
       "0                                             0.7295      \n",
       "1                                             0.6938      \n",
       "2                                             0.7884      \n",
       "3                                             0.9085      \n",
       "4                                             0.9689      \n",
       "5                                             0.9854      \n",
       "\n",
       "   Marketing Efficiency for product Savings Account  \\\n",
       "0                                            0.6915   \n",
       "1                                            0.6576   \n",
       "2                                            0.7680   \n",
       "3                                            0.9026   \n",
       "4                                            0.9684   \n",
       "5                                            0.9854   \n",
       "\n",
       "   Marketing Expenditures Global  Marketing Expenditures Product Loans  \\\n",
       "0                      4500000.0                             2220000.0   \n",
       "1                      4500000.0                             2020000.0   \n",
       "2                      4500000.0                             2220000.0   \n",
       "3                      3300000.0                             1100000.0   \n",
       "4                      3600000.0                             1200000.0   \n",
       "5                      4500000.0                             1500000.0   \n",
       "\n",
       "   Marketing Expenditures Product Savings  Interest Rate Car Financing Loans  \\\n",
       "0                               1200000.0                              0.120   \n",
       "1                               1400000.0                              0.120   \n",
       "2                               1200000.0                              0.123   \n",
       "3                                900000.0                              0.130   \n",
       "4                               1440000.0                              0.137   \n",
       "5                               5000000.0                              0.147   \n",
       "\n",
       "   Interest Rate Customer Savings  \n",
       "0                           0.030  \n",
       "1                           0.035  \n",
       "2                           0.035  \n",
       "3                           0.032  \n",
       "4                           0.030  \n",
       "5                           0.023  \n",
       "\n",
       "[6 rows x 22 columns]"
      ]
     },
     "execution_count": 97,
     "metadata": {},
     "output_type": "execute_result"
    }
   ],
   "source": [
    "cio_game=CIOGame(5)\n",
    "df_cmo=cio_game.read_from_exel().T\n",
    "df_cmo"
   ]
  },
  {
   "cell_type": "code",
   "execution_count": 98,
   "metadata": {},
   "outputs": [
    {
     "data": {
      "text/plain": [
       "Index(['Car Financing Loans', 'Customer Savings',\n",
       "       'Requests to be processed LowPriceCars',\n",
       "       'Requests to be processed MidPriceCars',\n",
       "       'Requests to be processed HighPriceCars',\n",
       "       'Contracts succeeded LowPriceCars', 'Contracts succeeded MidPriceCars',\n",
       "       'Contracts succeeded HighPriceCars',\n",
       "       'Service Transactions to be processed loans',\n",
       "       'Service Transactions succeeded loans',\n",
       "       'Requests to be processed savings', 'Contracts succeeded savings',\n",
       "       'Service Transactions to be processed savings',\n",
       "       'Service Transactions succeeded savings', 'Customer Satisfaction',\n",
       "       'Marketing Efficiency for product Car Financing Loans',\n",
       "       'Marketing Efficiency for product Savings Account',\n",
       "       'Marketing Expenditures Global', 'Marketing Expenditures Product Loans',\n",
       "       'Marketing Expenditures Product Savings',\n",
       "       'Interest Rate Car Financing Loans', 'Interest Rate Customer Savings'],\n",
       "      dtype='object', name='')"
      ]
     },
     "execution_count": 98,
     "metadata": {},
     "output_type": "execute_result"
    }
   ],
   "source": [
    "df_cmo.keys()"
   ]
  },
  {
   "cell_type": "code",
   "execution_count": 99,
   "metadata": {
    "scrolled": true
   },
   "outputs": [],
   "source": [
    "sum_contracts_succeeded_loans=df_cmo[[\n",
    "    'Contracts succeeded LowPriceCars',\n",
    "    'Contracts succeeded MidPriceCars',\n",
    "    'Contracts succeeded HighPriceCars'\n",
    "]].sum(axis=1).rename(\"Contracts succeeded Total\")\n",
    "\n",
    "df_loans=df_cmo[[\n",
    "    \"Car Financing Loans\",\n",
    "    'Service Transactions succeeded loans',\n",
    "]]\n",
    "df_loans=df_loans.T.append(sum_contracts_succeeded_loans).T"
   ]
  },
  {
   "cell_type": "markdown",
   "metadata": {},
   "source": [
    "## Find the best regression model"
   ]
  },
  {
   "cell_type": "code",
   "execution_count": 100,
   "metadata": {},
   "outputs": [
    {
     "name": "stdout",
     "output_type": "stream",
     "text": [
      "[0.0072008838816408627, 0.1981230339508222, 0.16317272810997352, 0.020450840665972025, 0.032614101431490683]\n",
      "5574000000.0\n",
      "5509205729.29\n",
      "                               features  estimatedCoefficients\n",
      "0  Service Transactions succeeded loans            6848.753335\n",
      "1             Contracts succeeded Total            4187.009921\n"
     ]
    }
   ],
   "source": [
    "y=df_loans[\"Car Financing Loans\"]\n",
    "X=df_loans.drop([\"Car Financing Loans\"],axis=1)\n",
    "regr_loans=cio_game.find_best_regr(X[:-1],y[:-1],X.iloc[len(X)-1],y.iloc[len(y)-1])"
   ]
  },
  {
   "cell_type": "markdown",
   "metadata": {},
   "source": [
    "## Find the relationship of amount contracts in last period and amount of service transactions in this period"
   ]
  },
  {
   "cell_type": "code",
   "execution_count": 101,
   "metadata": {
    "scrolled": false
   },
   "outputs": [
    {
     "name": "stdout",
     "output_type": "stream",
     "text": [
      "[0.1159725350443257, 0.059820206270812859, 0.028533388938561721, 0.058510362172537578]\n",
      "nan\n",
      "813679.61353\n",
      "                                           features  estimatedCoefficients\n",
      "0              Service Transactions succeeded loans               1.056644\n",
      "1                         Contracts succeeded Total               0.093373\n",
      "2  Service Transactions succeeded loans last Period               0.081993\n"
     ]
    }
   ],
   "source": [
    "df_ta_loans=df_loans.drop([\"Car Financing Loans\"],axis=1).T.append(df_cmo[\"Service Transactions to be processed loans\"].shift(-1).rename(\"Service Transactions to be processed loans next Period\"))\n",
    "df_ta_loans=df_ta_loans.append(df_cmo[\"Service Transactions succeeded loans\"].shift(1).rename(\"Service Transactions succeeded loans last Period\")).T\n",
    "y=df_ta_loans[\"Service Transactions to be processed loans next Period\"][1:]\n",
    "X=df_ta_loans.drop([\"Service Transactions to be processed loans next Period\"],axis=1)[1:]\n",
    "regr_ta_loans=cio_game.find_best_regr(X[:-1],y[:-1],X.iloc[len(X)-1],y.iloc[len(y)-1])"
   ]
  },
  {
   "cell_type": "code",
   "execution_count": 104,
   "metadata": {
    "scrolled": true
   },
   "outputs": [
    {
     "name": "stdout",
     "output_type": "stream",
     "text": [
      "150000: 6.61388e+09\n",
      "200000: 6.82323e+09\n",
      "250000: 7.03258e+09\n",
      "300000: 7.24193e+09\n",
      "350000: 7.45128e+09\n",
      "400000: 7.66063e+09\n",
      "450000: 7.86998e+09\n",
      "500000: 8.07933e+09\n",
      "550000: 8.28868e+09\n",
      "600000: 8.49803e+09\n",
      "650000: 8.70738e+09\n"
     ]
    },
    {
     "name": "stderr",
     "output_type": "stream",
     "text": [
      "/anaconda/lib/python3.6/site-packages/sklearn/utils/validation.py:395: DeprecationWarning: Passing 1d arrays as data is deprecated in 0.17 and will raise ValueError in 0.19. Reshape your data either using X.reshape(-1, 1) if your data has a single feature or X.reshape(1, -1) if it contains a single sample.\n",
      "  DeprecationWarning)\n",
      "/anaconda/lib/python3.6/site-packages/sklearn/utils/validation.py:395: DeprecationWarning: Passing 1d arrays as data is deprecated in 0.17 and will raise ValueError in 0.19. Reshape your data either using X.reshape(-1, 1) if your data has a single feature or X.reshape(1, -1) if it contains a single sample.\n",
      "  DeprecationWarning)\n",
      "/anaconda/lib/python3.6/site-packages/sklearn/utils/validation.py:395: DeprecationWarning: Passing 1d arrays as data is deprecated in 0.17 and will raise ValueError in 0.19. Reshape your data either using X.reshape(-1, 1) if your data has a single feature or X.reshape(1, -1) if it contains a single sample.\n",
      "  DeprecationWarning)\n",
      "/anaconda/lib/python3.6/site-packages/sklearn/utils/validation.py:395: DeprecationWarning: Passing 1d arrays as data is deprecated in 0.17 and will raise ValueError in 0.19. Reshape your data either using X.reshape(-1, 1) if your data has a single feature or X.reshape(1, -1) if it contains a single sample.\n",
      "  DeprecationWarning)\n",
      "/anaconda/lib/python3.6/site-packages/sklearn/utils/validation.py:395: DeprecationWarning: Passing 1d arrays as data is deprecated in 0.17 and will raise ValueError in 0.19. Reshape your data either using X.reshape(-1, 1) if your data has a single feature or X.reshape(1, -1) if it contains a single sample.\n",
      "  DeprecationWarning)\n",
      "/anaconda/lib/python3.6/site-packages/sklearn/utils/validation.py:395: DeprecationWarning: Passing 1d arrays as data is deprecated in 0.17 and will raise ValueError in 0.19. Reshape your data either using X.reshape(-1, 1) if your data has a single feature or X.reshape(1, -1) if it contains a single sample.\n",
      "  DeprecationWarning)\n",
      "/anaconda/lib/python3.6/site-packages/sklearn/utils/validation.py:395: DeprecationWarning: Passing 1d arrays as data is deprecated in 0.17 and will raise ValueError in 0.19. Reshape your data either using X.reshape(-1, 1) if your data has a single feature or X.reshape(1, -1) if it contains a single sample.\n",
      "  DeprecationWarning)\n",
      "/anaconda/lib/python3.6/site-packages/sklearn/utils/validation.py:395: DeprecationWarning: Passing 1d arrays as data is deprecated in 0.17 and will raise ValueError in 0.19. Reshape your data either using X.reshape(-1, 1) if your data has a single feature or X.reshape(1, -1) if it contains a single sample.\n",
      "  DeprecationWarning)\n",
      "/anaconda/lib/python3.6/site-packages/sklearn/utils/validation.py:395: DeprecationWarning: Passing 1d arrays as data is deprecated in 0.17 and will raise ValueError in 0.19. Reshape your data either using X.reshape(-1, 1) if your data has a single feature or X.reshape(1, -1) if it contains a single sample.\n",
      "  DeprecationWarning)\n",
      "/anaconda/lib/python3.6/site-packages/sklearn/utils/validation.py:395: DeprecationWarning: Passing 1d arrays as data is deprecated in 0.17 and will raise ValueError in 0.19. Reshape your data either using X.reshape(-1, 1) if your data has a single feature or X.reshape(1, -1) if it contains a single sample.\n",
      "  DeprecationWarning)\n",
      "/anaconda/lib/python3.6/site-packages/sklearn/utils/validation.py:395: DeprecationWarning: Passing 1d arrays as data is deprecated in 0.17 and will raise ValueError in 0.19. Reshape your data either using X.reshape(-1, 1) if your data has a single feature or X.reshape(1, -1) if it contains a single sample.\n",
      "  DeprecationWarning)\n"
     ]
    }
   ],
   "source": [
    "Service_Transactions_to_be_processed_loans_next_Period=813679.61353\n",
    "Service_Transactions_succeeded_loans_last_Period=651918.1\n",
    "for new_loans in range(150000,700000,50000):\n",
    "    X_test=pd.Series({\n",
    "        \"Service Transactions succeeded loans\":Service_Transactions_to_be_processed_loans_next_Period,\n",
    "             \"Contracts succeeded Total\":new_loans,\n",
    "             \"Service Transactions succeeded loans last Period\":Service_Transactions_succeeded_loans_last_Period})\n",
    "    loans_pre=regr_loans.predict([Service_Transactions_to_be_processed_loans_next_Period,new_loans])\n",
    "    #if loans_pre>=8000000000:\n",
    "    print(\"%g: %g\"%(new_loans,loans_pre))"
   ]
  },
  {
   "cell_type": "markdown",
   "metadata": {},
   "source": [
    "## need 500000 loans TAs "
   ]
  },
  {
   "cell_type": "code",
   "execution_count": 52,
   "metadata": {
    "scrolled": true
   },
   "outputs": [],
   "source": [
    "X=df_cmo[[\n",
    "    'Marketing Efficiency for product Car Financing Loans',\n",
    "    'Marketing Expenditures Global', \n",
    "    'Marketing Expenditures Product Loans',\n",
    "    #'Interest Rate Car Financing Loans'\n",
    "]]\n",
    "y=df_cmo[[\n",
    "    'Requests to be processed LowPriceCars',\n",
    "    'Requests to be processed MidPriceCars',\n",
    "    'Requests to be processed HighPriceCars'\n",
    "]].sum(axis=1).rename(\"Requests to be processed Total\")"
   ]
  },
  {
   "cell_type": "code",
   "execution_count": 53,
   "metadata": {
    "scrolled": false
   },
   "outputs": [
    {
     "name": "stdout",
     "output_type": "stream",
     "text": [
      "[0.0032028474141847507, 0.011114016339803356, 0.0038689715197578467, 0.016259421258684958, 0.01033872553199866]\n",
      "158472.6\n",
      "176663.577262\n",
      "                                            features  estimatedCoefficients\n",
      "0  Marketing Efficiency for product Car Financing...          139892.062769\n",
      "1                      Marketing Expenditures Global               0.037642\n",
      "2               Marketing Expenditures Product Loans               0.011236\n"
     ]
    }
   ],
   "source": [
    "regr_exp_loans=cio_game.find_best_regr(X[:-1],y[:-1],X.loc[5],y.loc[5])"
   ]
  },
  {
   "cell_type": "markdown",
   "metadata": {},
   "source": [
    "# Savings"
   ]
  },
  {
   "cell_type": "code",
   "execution_count": 58,
   "metadata": {},
   "outputs": [
    {
     "data": {
      "text/plain": [
       "Index(['Car Financing Loans', 'Customer Savings',\n",
       "       'Requests to be processed LowPriceCars',\n",
       "       'Requests to be processed MidPriceCars',\n",
       "       'Requests to be processed HighPriceCars',\n",
       "       'Contracts succeeded LowPriceCars', 'Contracts succeeded MidPriceCars',\n",
       "       'Contracts succeeded HighPriceCars',\n",
       "       'Service Transactions to be processed loans',\n",
       "       'Service Transactions succeeded loans',\n",
       "       'Requests to be processed savings', 'Contracts succeeded savings',\n",
       "       'Service Transactions to be processed savings',\n",
       "       'Service Transactions succeeded savings', 'Customer Satisfaction',\n",
       "       'Marketing Efficiency for product Car Financing Loans',\n",
       "       'Marketing Efficiency for product Savings Account',\n",
       "       'Marketing Expenditures Global', 'Marketing Expenditures Product Loans',\n",
       "       'Marketing Expenditures Product Savings',\n",
       "       'Interest Rate Car Financing Loans', 'Interest Rate Customer Savings'],\n",
       "      dtype='object', name='')"
      ]
     },
     "execution_count": 58,
     "metadata": {},
     "output_type": "execute_result"
    }
   ],
   "source": [
    "df_cmo.keys()"
   ]
  },
  {
   "cell_type": "code",
   "execution_count": 59,
   "metadata": {},
   "outputs": [
    {
     "data": {
      "text/html": [
       "<div>\n",
       "<style>\n",
       "    .dataframe thead tr:only-child th {\n",
       "        text-align: right;\n",
       "    }\n",
       "\n",
       "    .dataframe thead th {\n",
       "        text-align: left;\n",
       "    }\n",
       "\n",
       "    .dataframe tbody tr th {\n",
       "        vertical-align: top;\n",
       "    }\n",
       "</style>\n",
       "<table border=\"1\" class=\"dataframe\">\n",
       "  <thead>\n",
       "    <tr style=\"text-align: right;\">\n",
       "      <th></th>\n",
       "      <th>Customer Savings</th>\n",
       "      <th>Contracts succeeded savings</th>\n",
       "      <th>Service Transactions succeeded savings</th>\n",
       "    </tr>\n",
       "  </thead>\n",
       "  <tbody>\n",
       "    <tr>\n",
       "      <th>0</th>\n",
       "      <td>1.084270e+09</td>\n",
       "      <td>136564.3</td>\n",
       "      <td>156517.6</td>\n",
       "    </tr>\n",
       "    <tr>\n",
       "      <th>1</th>\n",
       "      <td>9.625200e+08</td>\n",
       "      <td>172480.4</td>\n",
       "      <td>135516.1</td>\n",
       "    </tr>\n",
       "    <tr>\n",
       "      <th>2</th>\n",
       "      <td>1.138230e+09</td>\n",
       "      <td>308382.6</td>\n",
       "      <td>162806.6</td>\n",
       "    </tr>\n",
       "    <tr>\n",
       "      <th>3</th>\n",
       "      <td>2.021880e+09</td>\n",
       "      <td>772732.2</td>\n",
       "      <td>285108.1</td>\n",
       "    </tr>\n",
       "    <tr>\n",
       "      <th>4</th>\n",
       "      <td>3.038280e+09</td>\n",
       "      <td>1048853.7</td>\n",
       "      <td>428042.9</td>\n",
       "    </tr>\n",
       "    <tr>\n",
       "      <th>5</th>\n",
       "      <td>5.433580e+09</td>\n",
       "      <td>2071513.3</td>\n",
       "      <td>668233.4</td>\n",
       "    </tr>\n",
       "  </tbody>\n",
       "</table>\n",
       "</div>"
      ],
      "text/plain": [
       "   Customer Savings  Contracts succeeded savings  \\\n",
       "0      1.084270e+09                     136564.3   \n",
       "1      9.625200e+08                     172480.4   \n",
       "2      1.138230e+09                     308382.6   \n",
       "3      2.021880e+09                     772732.2   \n",
       "4      3.038280e+09                    1048853.7   \n",
       "5      5.433580e+09                    2071513.3   \n",
       "\n",
       "   Service Transactions succeeded savings  \n",
       "0                                156517.6  \n",
       "1                                135516.1  \n",
       "2                                162806.6  \n",
       "3                                285108.1  \n",
       "4                                428042.9  \n",
       "5                                668233.4  "
      ]
     },
     "execution_count": 59,
     "metadata": {},
     "output_type": "execute_result"
    }
   ],
   "source": [
    "df_savings=df_cmo[[\n",
    "    \"Customer Savings\",\n",
    "    'Contracts succeeded savings',\n",
    "    'Service Transactions succeeded savings'\n",
    "]]\n",
    "df_savings"
   ]
  },
  {
   "cell_type": "code",
   "execution_count": 106,
   "metadata": {},
   "outputs": [
    {
     "name": "stdout",
     "output_type": "stream",
     "text": [
      "[0.020318101782805575, 0.024067394866507996, 0.0099115995784717636, 0.0039962838174385507, 0.011232697424401361]\n",
      "5433580000.0\n",
      "4778602298.93\n",
      "                                 features  estimatedCoefficients\n",
      "0             Contracts succeeded savings              88.500701\n",
      "1  Service Transactions succeeded savings            6874.250422\n"
     ]
    }
   ],
   "source": [
    "y=df_savings[\"Customer Savings\"]\n",
    "X=df_savings.drop([\"Customer Savings\"],axis=1)\n",
    "regr_savings=cio_game.find_best_regr(X[:-1],y[:-1],X.loc[5],y.loc[5])"
   ]
  },
  {
   "cell_type": "markdown",
   "metadata": {},
   "source": [
    "## Service is more importent"
   ]
  },
  {
   "cell_type": "code",
   "execution_count": 107,
   "metadata": {},
   "outputs": [
    {
     "name": "stdout",
     "output_type": "stream",
     "text": [
      "[0.87281607313856124, 0.34384509954505771, 0.48908642224792231, 0.75634653025656773]\n",
      "nan\n",
      "1466423.24041\n",
      "                                            features  estimatedCoefficients\n",
      "0                        Contracts succeeded savings               0.236888\n",
      "1             Service Transactions succeeded savings               0.897785\n",
      "2  Service Transactions succeeded savings last Pe...               1.353701\n"
     ]
    }
   ],
   "source": [
    "df_ta_savings=df_savings.drop([\"Customer Savings\"],axis=1).T.append(df_cmo[\"Service Transactions to be processed savings\"].shift(-1).rename(\"Service Transactions to be processed savings next Period\"))\n",
    "df_ta_savings=df_ta_savings.append(df_cmo[\"Service Transactions succeeded savings\"].shift(1).rename(\"Service Transactions succeeded savings last Period\")).T\n",
    "y=df_ta_savings[\"Service Transactions to be processed savings next Period\"][1:]\n",
    "X=df_ta_savings.drop([\"Service Transactions to be processed savings next Period\"],axis=1)[1:]\n",
    "regr_ta_savings=cio_game.find_best_regr(X[:-1],y[:-1],X.iloc[len(X)-1],y.iloc[len(y)-1])"
   ]
  },
  {
   "cell_type": "code",
   "execution_count": 108,
   "metadata": {},
   "outputs": [
    {
     "data": {
      "text/html": [
       "<div>\n",
       "<style>\n",
       "    .dataframe thead tr:only-child th {\n",
       "        text-align: right;\n",
       "    }\n",
       "\n",
       "    .dataframe thead th {\n",
       "        text-align: left;\n",
       "    }\n",
       "\n",
       "    .dataframe tbody tr th {\n",
       "        vertical-align: top;\n",
       "    }\n",
       "</style>\n",
       "<table border=\"1\" class=\"dataframe\">\n",
       "  <thead>\n",
       "    <tr style=\"text-align: right;\">\n",
       "      <th></th>\n",
       "      <th>Contracts succeeded savings</th>\n",
       "      <th>Service Transactions succeeded savings</th>\n",
       "      <th>Service Transactions to be processed savings next Period</th>\n",
       "      <th>Service Transactions succeeded savings last Period</th>\n",
       "    </tr>\n",
       "  </thead>\n",
       "  <tbody>\n",
       "    <tr>\n",
       "      <th>0</th>\n",
       "      <td>136564.3</td>\n",
       "      <td>156517.6</td>\n",
       "      <td>144377.4</td>\n",
       "      <td>NaN</td>\n",
       "    </tr>\n",
       "    <tr>\n",
       "      <th>1</th>\n",
       "      <td>172480.4</td>\n",
       "      <td>135516.1</td>\n",
       "      <td>170734.6</td>\n",
       "      <td>156517.6</td>\n",
       "    </tr>\n",
       "    <tr>\n",
       "      <th>2</th>\n",
       "      <td>308382.6</td>\n",
       "      <td>162806.6</td>\n",
       "      <td>303281.3</td>\n",
       "      <td>135516.1</td>\n",
       "    </tr>\n",
       "    <tr>\n",
       "      <th>3</th>\n",
       "      <td>772732.2</td>\n",
       "      <td>285108.1</td>\n",
       "      <td>455742.2</td>\n",
       "      <td>162806.6</td>\n",
       "    </tr>\n",
       "    <tr>\n",
       "      <th>4</th>\n",
       "      <td>1048853.7</td>\n",
       "      <td>428042.9</td>\n",
       "      <td>815036.6</td>\n",
       "      <td>285108.1</td>\n",
       "    </tr>\n",
       "    <tr>\n",
       "      <th>5</th>\n",
       "      <td>2071513.3</td>\n",
       "      <td>668233.4</td>\n",
       "      <td>NaN</td>\n",
       "      <td>428042.9</td>\n",
       "    </tr>\n",
       "  </tbody>\n",
       "</table>\n",
       "</div>"
      ],
      "text/plain": [
       "   Contracts succeeded savings  Service Transactions succeeded savings  \\\n",
       "0                     136564.3                                156517.6   \n",
       "1                     172480.4                                135516.1   \n",
       "2                     308382.6                                162806.6   \n",
       "3                     772732.2                                285108.1   \n",
       "4                    1048853.7                                428042.9   \n",
       "5                    2071513.3                                668233.4   \n",
       "\n",
       "   Service Transactions to be processed savings next Period  \\\n",
       "0                                           144377.4          \n",
       "1                                           170734.6          \n",
       "2                                           303281.3          \n",
       "3                                           455742.2          \n",
       "4                                           815036.6          \n",
       "5                                                NaN          \n",
       "\n",
       "   Service Transactions succeeded savings last Period  \n",
       "0                                                NaN   \n",
       "1                                           156517.6   \n",
       "2                                           135516.1   \n",
       "3                                           162806.6   \n",
       "4                                           285108.1   \n",
       "5                                           428042.9   "
      ]
     },
     "execution_count": 108,
     "metadata": {},
     "output_type": "execute_result"
    }
   ],
   "source": [
    "df_ta_savings"
   ]
  },
  {
   "cell_type": "code",
   "execution_count": 114,
   "metadata": {
    "scrolled": true
   },
   "outputs": [
    {
     "name": "stdout",
     "output_type": "stream",
     "text": [
      "1.5e+06: 1.04428e+10\n",
      "2e+06: 1.38799e+10\n",
      "2.5e+06: 1.73171e+10\n",
      "3e+06: 2.07542e+10\n",
      "3.5e+06: 2.41913e+10\n"
     ]
    },
    {
     "name": "stderr",
     "output_type": "stream",
     "text": [
      "/anaconda/lib/python3.6/site-packages/sklearn/utils/validation.py:395: DeprecationWarning: Passing 1d arrays as data is deprecated in 0.17 and will raise ValueError in 0.19. Reshape your data either using X.reshape(-1, 1) if your data has a single feature or X.reshape(1, -1) if it contains a single sample.\n",
      "  DeprecationWarning)\n",
      "/anaconda/lib/python3.6/site-packages/sklearn/utils/validation.py:395: DeprecationWarning: Passing 1d arrays as data is deprecated in 0.17 and will raise ValueError in 0.19. Reshape your data either using X.reshape(-1, 1) if your data has a single feature or X.reshape(1, -1) if it contains a single sample.\n",
      "  DeprecationWarning)\n",
      "/anaconda/lib/python3.6/site-packages/sklearn/utils/validation.py:395: DeprecationWarning: Passing 1d arrays as data is deprecated in 0.17 and will raise ValueError in 0.19. Reshape your data either using X.reshape(-1, 1) if your data has a single feature or X.reshape(1, -1) if it contains a single sample.\n",
      "  DeprecationWarning)\n",
      "/anaconda/lib/python3.6/site-packages/sklearn/utils/validation.py:395: DeprecationWarning: Passing 1d arrays as data is deprecated in 0.17 and will raise ValueError in 0.19. Reshape your data either using X.reshape(-1, 1) if your data has a single feature or X.reshape(1, -1) if it contains a single sample.\n",
      "  DeprecationWarning)\n",
      "/anaconda/lib/python3.6/site-packages/sklearn/utils/validation.py:395: DeprecationWarning: Passing 1d arrays as data is deprecated in 0.17 and will raise ValueError in 0.19. Reshape your data either using X.reshape(-1, 1) if your data has a single feature or X.reshape(1, -1) if it contains a single sample.\n",
      "  DeprecationWarning)\n",
      "/anaconda/lib/python3.6/site-packages/sklearn/utils/validation.py:395: DeprecationWarning: Passing 1d arrays as data is deprecated in 0.17 and will raise ValueError in 0.19. Reshape your data either using X.reshape(-1, 1) if your data has a single feature or X.reshape(1, -1) if it contains a single sample.\n",
      "  DeprecationWarning)\n"
     ]
    }
   ],
   "source": [
    "Service_Transactions_to_be_processed_savings_next_Period=1466423.24041\n",
    "for new_savings in range(1000000,4000000,500000):\n",
    "    savings_pre=regr_savings.predict([Service_Transactions_to_be_processed_savings_next_Period,new_savings])\n",
    "    if savings_pre>=8000000000:\n",
    "        print(\"%g: %g\"%(new_savings,savings_pre))"
   ]
  },
  {
   "cell_type": "code",
   "execution_count": 119,
   "metadata": {},
   "outputs": [
    {
     "name": "stdout",
     "output_type": "stream",
     "text": [
      "Optimize a model with 2 rows, 3 columns and 4 nonzeros\n",
      "Variable types: 0 continuous, 3 integer (0 binary)\n",
      "Coefficient statistics:\n",
      "  Matrix range     [1e-02, 3e-01]\n",
      "  Objective range  [1e+00, 1e+00]\n",
      "  Bounds range     [0e+00, 0e+00]\n",
      "  RHS range        [4e+05, 5e+05]\n",
      "Found heuristic solution: objective 4.16702e+07\n",
      "Presolve removed 2 rows and 3 columns\n",
      "Presolve time: 0.00s\n",
      "Presolve: All rows and columns removed\n",
      "\n",
      "Explored 0 nodes (0 simplex iterations) in 0.02 seconds\n",
      "Thread count was 1 (of 4 available processors)\n",
      "\n",
      "Solution count 2: 1.19547e+07 4.16702e+07 \n",
      "\n",
      "Optimal solution found (tolerance 1.00e-04)\n",
      "Best objective 1.195471700000e+07, best bound 1.195471700000e+07, gap 0.0000%\n",
      "Global_expenditure: 1.19547e+07\n",
      "Saving_expenditure: -0\n",
      "Loan_expenditure: -0\n",
      "Obj: 1.19547e+07\n"
     ]
    }
   ],
   "source": [
    "cio_game.find_best_solution(regr_exp_loans,best_regr_savings,450000,500000)"
   ]
  },
  {
   "cell_type": "markdown",
   "metadata": {},
   "source": [
    "# test"
   ]
  },
  {
   "cell_type": "code",
   "execution_count": 115,
   "metadata": {
    "scrolled": false
   },
   "outputs": [],
   "source": [
    "global_expenditure=np.array([4500000,4500000,4500000,3300000,3600000,4500000])\n",
    "\n",
    "savings_intrests_rate=np.array([0.0300,0.0350,0.0350,0.0320,0.03,0.023])\n",
    "savings_expenditure=np.array([1200000,1400000,1200000,900000,1440000,5000000])\n",
    "savings_marketing_efficiency=np.array([0.6915,0.6576,0.7680,0.9026,0.9684,0.9864])\n",
    "\n",
    "loans_intrests_rate=np.array([0.12,0.12,0.123,0.13,0.137,0.147])\n",
    "loans_expenditure=np.array([2220000,2020000,2220000,1100000,1200000,1500000])\n",
    "loans_marketing_efficiency=np.array([0.7295,0.6938,0.7884,0.9085,0.9689,0.9854])\n",
    "\n",
    "savings_requests=np.array([902795.10,951090.40,993601.10,837795.40,1114117.8,2376077.1 ])\n",
    "loans_requests=np.array([148479.60,141713.80 ,157194.80 ,116241.00,137106.70,158472.6])\n",
    "#loans_requests=np.array([74239.80 ,70856.90 ,78597.40 ,58120.50 ,68553.30 ,79236.3])\n",
    "\n",
    "df_savings=pd.DataFrame({\n",
    "    \"global_expenditure\":global_expenditure,\n",
    "    \"savings_expenditure\":savings_expenditure,\n",
    "    \"savings_intrests_rate\":savings_intrests_rate,\n",
    "    \"savings_marketing_efficiency\":savings_marketing_efficiency,\n",
    "    \"savings_requests\":savings_requests})[:-1]\n",
    "df_loans=pd.DataFrame({\n",
    "    \"global_expenditure\":global_expenditure,\n",
    "    \"loans_expenditure\":loans_expenditure,\n",
    "    \"loans_intrests_rate\":loans_intrests_rate,\n",
    "    \"loans_marketing_efficiency\":loans_marketing_efficiency,\n",
    "    \"loans_requests\":loans_requests})[:-1]"
   ]
  },
  {
   "cell_type": "code",
   "execution_count": 116,
   "metadata": {},
   "outputs": [
    {
     "data": {
      "text/html": [
       "<div>\n",
       "<style>\n",
       "    .dataframe thead tr:only-child th {\n",
       "        text-align: right;\n",
       "    }\n",
       "\n",
       "    .dataframe thead th {\n",
       "        text-align: left;\n",
       "    }\n",
       "\n",
       "    .dataframe tbody tr th {\n",
       "        vertical-align: top;\n",
       "    }\n",
       "</style>\n",
       "<table border=\"1\" class=\"dataframe\">\n",
       "  <thead>\n",
       "    <tr style=\"text-align: right;\">\n",
       "      <th></th>\n",
       "      <th>global_expenditure</th>\n",
       "      <th>savings_expenditure</th>\n",
       "      <th>savings_intrests_rate</th>\n",
       "      <th>savings_marketing_efficiency</th>\n",
       "      <th>savings_requests</th>\n",
       "    </tr>\n",
       "  </thead>\n",
       "  <tbody>\n",
       "    <tr>\n",
       "      <th>0</th>\n",
       "      <td>4500000</td>\n",
       "      <td>1200000</td>\n",
       "      <td>0.030</td>\n",
       "      <td>0.6915</td>\n",
       "      <td>902795.1</td>\n",
       "    </tr>\n",
       "    <tr>\n",
       "      <th>1</th>\n",
       "      <td>4500000</td>\n",
       "      <td>1400000</td>\n",
       "      <td>0.035</td>\n",
       "      <td>0.6576</td>\n",
       "      <td>951090.4</td>\n",
       "    </tr>\n",
       "    <tr>\n",
       "      <th>2</th>\n",
       "      <td>4500000</td>\n",
       "      <td>1200000</td>\n",
       "      <td>0.035</td>\n",
       "      <td>0.7680</td>\n",
       "      <td>993601.1</td>\n",
       "    </tr>\n",
       "    <tr>\n",
       "      <th>3</th>\n",
       "      <td>3300000</td>\n",
       "      <td>900000</td>\n",
       "      <td>0.032</td>\n",
       "      <td>0.9026</td>\n",
       "      <td>837795.4</td>\n",
       "    </tr>\n",
       "    <tr>\n",
       "      <th>4</th>\n",
       "      <td>3600000</td>\n",
       "      <td>1440000</td>\n",
       "      <td>0.030</td>\n",
       "      <td>0.9684</td>\n",
       "      <td>1114117.8</td>\n",
       "    </tr>\n",
       "  </tbody>\n",
       "</table>\n",
       "</div>"
      ],
      "text/plain": [
       "   global_expenditure  savings_expenditure  savings_intrests_rate  \\\n",
       "0             4500000              1200000                  0.030   \n",
       "1             4500000              1400000                  0.035   \n",
       "2             4500000              1200000                  0.035   \n",
       "3             3300000               900000                  0.032   \n",
       "4             3600000              1440000                  0.030   \n",
       "\n",
       "   savings_marketing_efficiency  savings_requests  \n",
       "0                        0.6915          902795.1  \n",
       "1                        0.6576          951090.4  \n",
       "2                        0.7680          993601.1  \n",
       "3                        0.9026          837795.4  \n",
       "4                        0.9684         1114117.8  "
      ]
     },
     "execution_count": 116,
     "metadata": {},
     "output_type": "execute_result"
    }
   ],
   "source": [
    "df_savings"
   ]
  },
  {
   "cell_type": "code",
   "execution_count": 117,
   "metadata": {
    "scrolled": true
   },
   "outputs": [
    {
     "data": {
      "text/plain": [
       "0    4500000\n",
       "1    4500000\n",
       "2    4500000\n",
       "3    3300000\n",
       "4    3600000\n",
       "Name: global_expenditure, dtype: int64"
      ]
     },
     "execution_count": 117,
     "metadata": {},
     "output_type": "execute_result"
    }
   ],
   "source": [
    "df_loans[\"global_expenditure\"]"
   ]
  },
  {
   "cell_type": "code",
   "execution_count": 118,
   "metadata": {},
   "outputs": [
    {
     "name": "stdout",
     "output_type": "stream",
     "text": [
      "[0.020631599322028515, 0.038217451996219065, 0.034250256516569655, 0.13449534371837213, 0.075853455726701213]\n",
      "2376077.1\n",
      "2371377.45461\n",
      "                       features  estimatedCoefficients\n",
      "0            global_expenditure               0.158608\n",
      "1           savings_expenditure               0.308537\n",
      "2         savings_intrests_rate           -7289.507342\n",
      "3  savings_marketing_efficiency          944004.454426\n"
     ]
    }
   ],
   "source": [
    "y_savings=df_savings[\"savings_requests\"]\n",
    "X_savings=df_savings.drop([\"savings_requests\"],axis=1)\n",
    "\n",
    "df_savings_pre=pd.DataFrame({\n",
    "    \"global_expenditure\":[4500000],\n",
    "    \"savings_expenditure\":[5000000],\n",
    "    \"savings_intrests_rate\":[0.02],\n",
    "    \"savings_marketing_efficiency\":[0.9854]\n",
    "})\n",
    "\n",
    "best_regr_savings=cio_game.find_best_regr(X_savings,y_savings,df_savings_pre,2376077.1)"
   ]
  },
  {
   "cell_type": "code",
   "execution_count": null,
   "metadata": {},
   "outputs": [],
   "source": [
    "y_loans=df_loans[\"loans_requests\"]\n",
    "X_loans=df_loans.drop([\"loans_requests\"],axis=1)\n",
    "\n",
    "df_loans_pre=pd.DataFrame({\n",
    "    \"global_expenditure\":[4500000],\n",
    "    \"savings_expenditure\":[1500000],\n",
    "    \"savings_intrests_rate\":[0.147],\n",
    "    \"savings_marketing_efficiency\":[0.9854]\n",
    "})\n",
    "\n",
    "best_regr_loans=find_best_regr(X_loans,y_loans,df_loans_pre,158472.6)"
   ]
  },
  {
   "cell_type": "code",
   "execution_count": null,
   "metadata": {},
   "outputs": [],
   "source": [
    "best_regr_savings.coef_"
   ]
  },
  {
   "cell_type": "code",
   "execution_count": null,
   "metadata": {},
   "outputs": [],
   "source": [
    "best_regr_loans.coef_"
   ]
  },
  {
   "cell_type": "code",
   "execution_count": null,
   "metadata": {
    "collapsed": true
   },
   "outputs": [],
   "source": []
  }
 ],
 "metadata": {
  "kernelspec": {
   "display_name": "Python 3",
   "language": "python",
   "name": "python3"
  },
  "language_info": {
   "codemirror_mode": {
    "name": "ipython",
    "version": 3
   },
   "file_extension": ".py",
   "mimetype": "text/x-python",
   "name": "python",
   "nbconvert_exporter": "python",
   "pygments_lexer": "ipython3",
   "version": "3.6.1"
  }
 },
 "nbformat": 4,
 "nbformat_minor": 2
}
