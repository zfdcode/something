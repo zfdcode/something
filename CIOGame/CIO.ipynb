{
 "cells": [
  {
   "cell_type": "code",
   "execution_count": 166,
   "metadata": {
    "collapsed": true
   },
   "outputs": [],
   "source": [
    "%reload_ext autoreload\n",
    "%autoreload 2\n",
    "import csv\n",
    "from CIOGame import *\n",
    "import pandas as pd\n",
    "import numpy as np\n",
    "from sklearn import linear_model, preprocessing, ensemble\n",
    "import matplotlib.pyplot as plt\n",
    "from sklearn.metrics import mean_squared_error, r2_score\n",
    "from gurobipy import *"
   ]
  },
  {
   "cell_type": "markdown",
   "metadata": {},
   "source": [
    "# Reports in previous semesters"
   ]
  },
  {
   "cell_type": "code",
   "execution_count": null,
   "metadata": {
    "collapsed": true
   },
   "outputs": [],
   "source": [
    "file = 'CMO_Controlling-Tool.xlsx'\n",
    "# Load spreadsheet\n",
    "xl = pd.ExcelFile(file)\n",
    "df=xl.parse('Marketing KPIs').drop(list(range(10,18)))\n",
    "df=df.set_index([list(df.iloc[:,0])]).iloc[:,1:].transpose().drop(['Prozessqualität'],axis=1)\n",
    "df"
   ]
  },
  {
   "cell_type": "code",
   "execution_count": null,
   "metadata": {},
   "outputs": [],
   "source": [
    "cio_game.correlation_matrix(df)"
   ]
  },
  {
   "cell_type": "code",
   "execution_count": null,
   "metadata": {},
   "outputs": [],
   "source": [
    "df_corr=df.corr()\n",
    "df_corr"
   ]
  },
  {
   "cell_type": "code",
   "execution_count": null,
   "metadata": {
    "collapsed": true
   },
   "outputs": [],
   "source": [
    "df_corr.abs().sort_values(by=['     Global'],ascending=False)#.drop([\"Marktanteil (New Savings)\",\"Kundenzufriedenheit\"])"
   ]
  },
  {
   "cell_type": "markdown",
   "metadata": {
    "collapsed": true
   },
   "source": [
    "# blablathings"
   ]
  },
  {
   "cell_type": "code",
   "execution_count": 173,
   "metadata": {},
   "outputs": [
    {
     "name": "stdout",
     "output_type": "stream",
     "text": [
      "Created CIOGame Object for period 5\n"
     ]
    }
   ],
   "source": [
    "cio_game=CIOGame(5)\n",
    "df_cmo=cio_game.read_from_exel().T"
   ]
  },
  {
   "cell_type": "code",
   "execution_count": 174,
   "metadata": {},
   "outputs": [
    {
     "data": {
      "text/html": [
       "<div>\n",
       "<style>\n",
       "    .dataframe thead tr:only-child th {\n",
       "        text-align: right;\n",
       "    }\n",
       "\n",
       "    .dataframe thead th {\n",
       "        text-align: left;\n",
       "    }\n",
       "\n",
       "    .dataframe tbody tr th {\n",
       "        vertical-align: top;\n",
       "    }\n",
       "</style>\n",
       "<table border=\"1\" class=\"dataframe\">\n",
       "  <thead>\n",
       "    <tr style=\"text-align: right;\">\n",
       "      <th></th>\n",
       "      <th>Car Financing Loans</th>\n",
       "      <th>Customer Savings</th>\n",
       "      <th>Requests to be processed LowPriceCars</th>\n",
       "      <th>Requests to be processed MidPriceCars</th>\n",
       "      <th>Requests to be processed HighPriceCars</th>\n",
       "      <th>Contracts succeeded LowPriceCars</th>\n",
       "      <th>Contracts succeeded MidPriceCars</th>\n",
       "      <th>Contracts succeeded HighPriceCars</th>\n",
       "      <th>Service Transactions to be processed loans</th>\n",
       "      <th>Service Transactions succeeded loans</th>\n",
       "      <th>...</th>\n",
       "      <th>Contracts succeeded savings</th>\n",
       "      <th>Service Transactions succeeded savings</th>\n",
       "      <th>Customer Satisfaction</th>\n",
       "      <th>Marketing Efficiency for product Car Financing Loans</th>\n",
       "      <th>Marketing Efficiency for product Savings Account</th>\n",
       "      <th>Marketing Expenditures Global</th>\n",
       "      <th>Marketing Expenditures Product Loans</th>\n",
       "      <th>Marketing Expenditures Product Savings</th>\n",
       "      <th>Interest Rate Car Financing Loans</th>\n",
       "      <th>Interest Rate Customer Savings</th>\n",
       "    </tr>\n",
       "  </thead>\n",
       "  <tbody>\n",
       "    <tr>\n",
       "      <th>0</th>\n",
       "      <td>1.80620e+09</td>\n",
       "      <td>1.08427e+09</td>\n",
       "      <td>59391.8</td>\n",
       "      <td>74239.8</td>\n",
       "      <td>14848</td>\n",
       "      <td>18460.7</td>\n",
       "      <td>23075.9</td>\n",
       "      <td>4615.2</td>\n",
       "      <td>216749</td>\n",
       "      <td>173290</td>\n",
       "      <td>...</td>\n",
       "      <td>136564</td>\n",
       "      <td>156518</td>\n",
       "      <td>0.8332</td>\n",
       "      <td>0.7295</td>\n",
       "      <td>0.6915</td>\n",
       "      <td>4500000</td>\n",
       "      <td>2220000</td>\n",
       "      <td>1200000</td>\n",
       "      <td>0.12</td>\n",
       "      <td>0.03</td>\n",
       "    </tr>\n",
       "    <tr>\n",
       "      <th>1</th>\n",
       "      <td>2.59591e+09</td>\n",
       "      <td>9.6252e+08</td>\n",
       "      <td>56685.5</td>\n",
       "      <td>70856.9</td>\n",
       "      <td>14171.4</td>\n",
       "      <td>39239.7</td>\n",
       "      <td>49049.6</td>\n",
       "      <td>9809.9</td>\n",
       "      <td>311510</td>\n",
       "      <td>298466</td>\n",
       "      <td>...</td>\n",
       "      <td>172480</td>\n",
       "      <td>135516</td>\n",
       "      <td>0.8492</td>\n",
       "      <td>0.6938</td>\n",
       "      <td>0.6576</td>\n",
       "      <td>4500000</td>\n",
       "      <td>2020000</td>\n",
       "      <td>1400000</td>\n",
       "      <td>0.12</td>\n",
       "      <td>0.035</td>\n",
       "    </tr>\n",
       "    <tr>\n",
       "      <th>2</th>\n",
       "      <td>3.38719e+09</td>\n",
       "      <td>1.13823e+09</td>\n",
       "      <td>62877.9</td>\n",
       "      <td>78597.4</td>\n",
       "      <td>15719.5</td>\n",
       "      <td>41754.9</td>\n",
       "      <td>52193.6</td>\n",
       "      <td>10438.7</td>\n",
       "      <td>406463</td>\n",
       "      <td>327376</td>\n",
       "      <td>...</td>\n",
       "      <td>308383</td>\n",
       "      <td>162807</td>\n",
       "      <td>0.8681</td>\n",
       "      <td>0.7884</td>\n",
       "      <td>0.768</td>\n",
       "      <td>4500000</td>\n",
       "      <td>2220000</td>\n",
       "      <td>1200000</td>\n",
       "      <td>0.123</td>\n",
       "      <td>0.035</td>\n",
       "    </tr>\n",
       "    <tr>\n",
       "      <th>3</th>\n",
       "      <td>3.73218e+09</td>\n",
       "      <td>2.02188e+09</td>\n",
       "      <td>46496.4</td>\n",
       "      <td>58120.5</td>\n",
       "      <td>11624.1</td>\n",
       "      <td>35495.5</td>\n",
       "      <td>44369.4</td>\n",
       "      <td>8873.9</td>\n",
       "      <td>447862</td>\n",
       "      <td>425422</td>\n",
       "      <td>...</td>\n",
       "      <td>772732</td>\n",
       "      <td>285108</td>\n",
       "      <td>0.8929</td>\n",
       "      <td>0.9085</td>\n",
       "      <td>0.9026</td>\n",
       "      <td>3300000</td>\n",
       "      <td>1100000</td>\n",
       "      <td>900000</td>\n",
       "      <td>0.13</td>\n",
       "      <td>0.032</td>\n",
       "    </tr>\n",
       "    <tr>\n",
       "      <th>4</th>\n",
       "      <td>4.4754e+09</td>\n",
       "      <td>3.03828e+09</td>\n",
       "      <td>54842.7</td>\n",
       "      <td>68553.3</td>\n",
       "      <td>13710.7</td>\n",
       "      <td>50091.1</td>\n",
       "      <td>62613.9</td>\n",
       "      <td>12522.8</td>\n",
       "      <td>537047</td>\n",
       "      <td>524853</td>\n",
       "      <td>...</td>\n",
       "      <td>1.04885e+06</td>\n",
       "      <td>428043</td>\n",
       "      <td>0.9269</td>\n",
       "      <td>0.9689</td>\n",
       "      <td>0.9684</td>\n",
       "      <td>3600000</td>\n",
       "      <td>1200000</td>\n",
       "      <td>1440000</td>\n",
       "      <td>0.137</td>\n",
       "      <td>0.03</td>\n",
       "    </tr>\n",
       "    <tr>\n",
       "      <th>5</th>\n",
       "      <td>5.574e+09</td>\n",
       "      <td>5.43358e+09</td>\n",
       "      <td>63389</td>\n",
       "      <td>79236.3</td>\n",
       "      <td>15847.3</td>\n",
       "      <td>60304.8</td>\n",
       "      <td>75381</td>\n",
       "      <td>15076.2</td>\n",
       "      <td>668880</td>\n",
       "      <td>651918</td>\n",
       "      <td>...</td>\n",
       "      <td>2.07151e+06</td>\n",
       "      <td>668233</td>\n",
       "      <td>0.9663</td>\n",
       "      <td>0.9854</td>\n",
       "      <td>0.9854</td>\n",
       "      <td>4500000</td>\n",
       "      <td>1500000</td>\n",
       "      <td>5000000</td>\n",
       "      <td>0.147</td>\n",
       "      <td>0.023</td>\n",
       "    </tr>\n",
       "  </tbody>\n",
       "</table>\n",
       "<p>6 rows × 21 columns</p>\n",
       "</div>"
      ],
      "text/plain": [
       "  Car Financing Loans Customer Savings Requests to be processed LowPriceCars  \\\n",
       "0         1.80620e+09      1.08427e+09                               59391.8   \n",
       "1         2.59591e+09       9.6252e+08                               56685.5   \n",
       "2         3.38719e+09      1.13823e+09                               62877.9   \n",
       "3         3.73218e+09      2.02188e+09                               46496.4   \n",
       "4          4.4754e+09      3.03828e+09                               54842.7   \n",
       "5           5.574e+09      5.43358e+09                                 63389   \n",
       "\n",
       "  Requests to be processed MidPriceCars  \\\n",
       "0                               74239.8   \n",
       "1                               70856.9   \n",
       "2                               78597.4   \n",
       "3                               58120.5   \n",
       "4                               68553.3   \n",
       "5                               79236.3   \n",
       "\n",
       "  Requests to be processed HighPriceCars Contracts succeeded LowPriceCars  \\\n",
       "0                                  14848                          18460.7   \n",
       "1                                14171.4                          39239.7   \n",
       "2                                15719.5                          41754.9   \n",
       "3                                11624.1                          35495.5   \n",
       "4                                13710.7                          50091.1   \n",
       "5                                15847.3                          60304.8   \n",
       "\n",
       "  Contracts succeeded MidPriceCars Contracts succeeded HighPriceCars  \\\n",
       "0                          23075.9                            4615.2   \n",
       "1                          49049.6                            9809.9   \n",
       "2                          52193.6                           10438.7   \n",
       "3                          44369.4                            8873.9   \n",
       "4                          62613.9                           12522.8   \n",
       "5                            75381                           15076.2   \n",
       "\n",
       "  Service Transactions to be processed loans  \\\n",
       "0                                     216749   \n",
       "1                                     311510   \n",
       "2                                     406463   \n",
       "3                                     447862   \n",
       "4                                     537047   \n",
       "5                                     668880   \n",
       "\n",
       "  Service Transactions succeeded loans              ...                \\\n",
       "0                               173290              ...                 \n",
       "1                               298466              ...                 \n",
       "2                               327376              ...                 \n",
       "3                               425422              ...                 \n",
       "4                               524853              ...                 \n",
       "5                               651918              ...                 \n",
       "\n",
       "  Contracts succeeded savings Service Transactions succeeded savings  \\\n",
       "0                      136564                                 156518   \n",
       "1                      172480                                 135516   \n",
       "2                      308383                                 162807   \n",
       "3                      772732                                 285108   \n",
       "4                 1.04885e+06                                 428043   \n",
       "5                 2.07151e+06                                 668233   \n",
       "\n",
       "  Customer Satisfaction Marketing Efficiency for product Car Financing Loans  \\\n",
       "0                0.8332                                             0.7295     \n",
       "1                0.8492                                             0.6938     \n",
       "2                0.8681                                             0.7884     \n",
       "3                0.8929                                             0.9085     \n",
       "4                0.9269                                             0.9689     \n",
       "5                0.9663                                             0.9854     \n",
       "\n",
       "  Marketing Efficiency for product Savings Account  \\\n",
       "0                                           0.6915   \n",
       "1                                           0.6576   \n",
       "2                                            0.768   \n",
       "3                                           0.9026   \n",
       "4                                           0.9684   \n",
       "5                                           0.9854   \n",
       "\n",
       "  Marketing Expenditures Global Marketing Expenditures Product Loans  \\\n",
       "0                       4500000                              2220000   \n",
       "1                       4500000                              2020000   \n",
       "2                       4500000                              2220000   \n",
       "3                       3300000                              1100000   \n",
       "4                       3600000                              1200000   \n",
       "5                       4500000                              1500000   \n",
       "\n",
       "  Marketing Expenditures Product Savings Interest Rate Car Financing Loans  \\\n",
       "0                                1200000                              0.12   \n",
       "1                                1400000                              0.12   \n",
       "2                                1200000                             0.123   \n",
       "3                                 900000                              0.13   \n",
       "4                                1440000                             0.137   \n",
       "5                                5000000                             0.147   \n",
       "\n",
       "  Interest Rate Customer Savings  \n",
       "0                           0.03  \n",
       "1                          0.035  \n",
       "2                          0.035  \n",
       "3                          0.032  \n",
       "4                           0.03  \n",
       "5                          0.023  \n",
       "\n",
       "[6 rows x 21 columns]"
      ]
     },
     "execution_count": 174,
     "metadata": {},
     "output_type": "execute_result"
    }
   ],
   "source": [
    "df_cmo"
   ]
  },
  {
   "cell_type": "code",
   "execution_count": null,
   "metadata": {
    "collapsed": true
   },
   "outputs": [],
   "source": []
  },
  {
   "cell_type": "markdown",
   "metadata": {},
   "source": [
    "# test"
   ]
  },
  {
   "cell_type": "code",
   "execution_count": null,
   "metadata": {
    "scrolled": false
   },
   "outputs": [],
   "source": [
    "global_expenditure=np.array([4500000,4500000,4500000,3300000,3600000,4500000])\n",
    "\n",
    "savings_intrests_rate=np.array([0.0300,0.0350,0.0350,0.0320,0.03,0.023])\n",
    "savings_expenditure=np.array([1200000,1400000,1200000,900000,1440000,5000000])\n",
    "savings_marketing_efficiency=np.array([0.6915,0.6576,0.7680,0.9026,0.9684,0.9864])\n",
    "\n",
    "loans_intrests_rate=np.array([0.12,0.12,0.123,0.13,0.137,0.147])\n",
    "loans_expenditure=np.array([2220000,2020000,2220000,1100000,1200000,1500000])\n",
    "loans_marketing_efficiency=np.array([0.7295,0.6938,0.7884,0.9085,0.9689,0.9854])\n",
    "\n",
    "savings_requests=np.array([902795.10,951090.40,993601.10,837795.40,1114117.8,2376077.1 ])\n",
    "loans_requests=np.array([148479.60,141713.80 ,157194.80 ,116241.00,137106.70,158472.6])\n",
    "#loans_requests=np.array([74239.80 ,70856.90 ,78597.40 ,58120.50 ,68553.30 ,79236.3])\n",
    "\n",
    "df_savings=pd.DataFrame({\n",
    "    \"global_expenditure\":global_expenditure,\n",
    "    \"savings_expenditure\":savings_expenditure,\n",
    "    \"savings_intrests_rate\":savings_intrests_rate,\n",
    "    \"savings_marketing_efficiency\":savings_marketing_efficiency,\n",
    "    \"savings_requests\":savings_requests})[:-1]\n",
    "df_loans=pd.DataFrame({\n",
    "    \"global_expenditure\":global_expenditure,\n",
    "    \"loans_expenditure\":loans_expenditure,\n",
    "    \"loans_intrests_rate\":loans_intrests_rate,\n",
    "    \"loans_marketing_efficiency\":loans_marketing_efficiency,\n",
    "    \"loans_requests\":loans_requests})[:-1]"
   ]
  },
  {
   "cell_type": "code",
   "execution_count": null,
   "metadata": {},
   "outputs": [],
   "source": [
    "df_savings"
   ]
  },
  {
   "cell_type": "code",
   "execution_count": null,
   "metadata": {
    "scrolled": true
   },
   "outputs": [],
   "source": [
    "df_loans"
   ]
  },
  {
   "cell_type": "code",
   "execution_count": null,
   "metadata": {
    "collapsed": true
   },
   "outputs": [],
   "source": [
    "def find_best_regr(X,y,df_pre,y_pre):\n",
    "    diff=[]\n",
    "    regr_list=[]\n",
    "    data_size=len(y)\n",
    "    for i in range(data_size):\n",
    "        a=list(range(data_size))\n",
    "        del a[i]\n",
    "        X_train=X.iloc[a]\n",
    "        X_test=X.iloc[i].values.reshape(1,-1)\n",
    "        y_train=y[a]\n",
    "        y_test=y[i]\n",
    "\n",
    "        regr = linear_model.LinearRegression()\n",
    "        regr.fit(X_train,y_train)\n",
    "        regr_list.append(regr)\n",
    "        diff.append(regr.predict(X_test)[0]/y_test)\n",
    "\n",
    "    list_diff=list(abs(np.array(diff)-1))\n",
    "    best_regr_index=list_diff.index(min(list_diff))\n",
    "    best_regr=regr_list[best_regr_index]\n",
    "    print(list_diff[best_regr_index])\n",
    "    print(y_pre )\n",
    "    print(best_regr.predict(df_pre)[0])\n",
    "    return best_regr"
   ]
  },
  {
   "cell_type": "code",
   "execution_count": null,
   "metadata": {},
   "outputs": [],
   "source": [
    "y_savings=df_savings[\"savings_requests\"]\n",
    "X_savings=df_savings.drop([\"savings_requests\"],axis=1)\n",
    "\n",
    "df_savings_pre=pd.DataFrame({\n",
    "    \"global_expenditure\":[4500000],\n",
    "    \"savings_expenditure\":[5000000],\n",
    "    \"savings_intrests_rate\":[0.02],\n",
    "    \"savings_marketing_efficiency\":[0.9854]\n",
    "})\n",
    "\n",
    "best_regr_savings=find_best_regr(X_savings,y_savings,df_savings_pre,2376077.1)"
   ]
  },
  {
   "cell_type": "code",
   "execution_count": null,
   "metadata": {},
   "outputs": [],
   "source": [
    "y_loans=df_loans[\"loans_requests\"]\n",
    "X_loans=df_loans.drop([\"loans_requests\"],axis=1)\n",
    "\n",
    "df_loans_pre=pd.DataFrame({\n",
    "    \"global_expenditure\":[4500000],\n",
    "    \"savings_expenditure\":[1500000],\n",
    "    \"savings_intrests_rate\":[0.147],\n",
    "    \"savings_marketing_efficiency\":[0.9854]\n",
    "})\n",
    "\n",
    "best_regr_loans=find_best_regr(X_loans,y_loans,df_loans_pre,158472.6)"
   ]
  },
  {
   "cell_type": "code",
   "execution_count": null,
   "metadata": {},
   "outputs": [],
   "source": [
    "best_regr_savings.coef_"
   ]
  },
  {
   "cell_type": "code",
   "execution_count": null,
   "metadata": {},
   "outputs": [],
   "source": [
    "best_regr_loans.coef_"
   ]
  },
  {
   "cell_type": "code",
   "execution_count": null,
   "metadata": {
    "collapsed": true
   },
   "outputs": [],
   "source": []
  }
 ],
 "metadata": {
  "kernelspec": {
   "display_name": "Python 3",
   "language": "python",
   "name": "python3"
  },
  "language_info": {
   "codemirror_mode": {
    "name": "ipython",
    "version": 3
   },
   "file_extension": ".py",
   "mimetype": "text/x-python",
   "name": "python",
   "nbconvert_exporter": "python",
   "pygments_lexer": "ipython3",
   "version": "3.6.1"
  }
 },
 "nbformat": 4,
 "nbformat_minor": 2
}
